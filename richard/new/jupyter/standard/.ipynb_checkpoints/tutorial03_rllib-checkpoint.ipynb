{
 "cells": [
  {
   "cell_type": "markdown",
   "metadata": {},
   "source": [
    "# Tutorial 03: Running RLlib Experiments\n",
    "\n",
    "This tutorial walks you through the process of running traffic simulations in Flow with trainable RLlib-powered agents. Autonomous agents will learn to maximize a certain reward over the rollouts, using the [**RLlib**](https://ray.readthedocs.io/en/latest/rllib.html) library ([citation](https://arxiv.org/abs/1712.09381)) ([installation instructions](https://flow.readthedocs.io/en/latest/flow_setup.html#optional-install-ray-rllib)). Simulations of this form will depict the propensity of RL agents to influence the traffic of a human fleet in order to make the whole fleet more efficient (for some given metrics). \n",
    "\n",
    "In this tutorial, we simulate an initially perturbed single lane ring road, where we introduce a single autonomous vehicle. We witness that, after some training, that the autonomous vehicle learns to dissipate the formation and propagation of \"phantom jams\" which form when only human driver dynamics are involved.\n",
    "\n",
    "## 1. Components of a Simulation\n",
    "All simulations, both in the presence and absence of RL, require two components: a *network*, and an *environment*. Networks describe the features of the transportation network used in simulation. This includes the positions and properties of nodes and edges constituting the lanes and junctions, as well as properties of the vehicles, traffic lights, inflows, etc... in the network. Environments, on the other hand, initialize, reset, and advance simulations, and act as the primary interface between the reinforcement learning algorithm and the network. Moreover, custom environments may be used to modify the dynamical features of an network. Finally, in the RL case, it is in the *environment* that the state/action spaces and the reward function are defined. \n",
    "\n",
    "## 2. Setting up a Network\n",
    "Flow contains a plethora of pre-designed networks used to replicate highways, intersections, and merges in both closed and open settings. All these networks are located in flow/networks. For this tutorial, which involves a single lane ring road, we will use the network `RingNetwork`.\n",
    "\n",
    "### 2.1 Setting up Network Parameters\n",
    "\n",
    "The network mentioned at the start of this section, as well as all other networks in Flow, are parameterized by the following arguments: \n",
    "* name\n",
    "* vehicles\n",
    "* net_params\n",
    "* initial_config\n",
    "\n",
    "These parameters are explained in detail in `tutorial01_sumo.ipynb`. Moreover, all parameters excluding vehicles (covered in section 2.2) do not change from the previous tutorial. Accordingly, we specify them nearly as we have before, and leave further explanations of the parameters to `tutorial01_sumo.ipynb`.\n",
    "\n",
    "We begin by choosing the network the experiment will be trained on. We use one of Flow's builtin networks, located in `flow.networks`. A list of all available networks can be found by running the script below."
   ]
  },
  {
   "cell_type": "code",
   "execution_count": 1,
   "metadata": {},
   "outputs": [
    {
     "name": "stdout",
     "output_type": "stream",
     "text": [
      "['Network', 'BayBridgeNetwork', 'BayBridgeTollNetwork', 'BottleneckNetwork', 'FigureEightNetwork', 'TrafficLightGridNetwork', 'HighwayNetwork', 'RingNetwork', 'MergeNetwork', 'MultiRingNetwork', 'MiniCityNetwork', 'HighwayRampsNetwork']\n"
     ]
    }
   ],
   "source": [
    "import flow.networks as networks\n",
    "\n",
    "print(networks.__all__)"
   ]
  },
  {
   "cell_type": "markdown",
   "metadata": {},
   "source": [
    "In this tutorial, we choose to use the ring road network. The network class is then:"
   ]
  },
  {
   "cell_type": "code",
   "execution_count": 2,
   "metadata": {},
   "outputs": [],
   "source": [
    "from flow.networks import RingNetwork\n",
    "\n",
    "# ring road network class\n",
    "network_name = RingNetwork"
   ]
  },
  {
   "cell_type": "markdown",
   "metadata": {},
   "source": [
    "One key difference between SUMO and RLlib experiments is that, in RLlib experiments, the network classes do not need to be defined; instead users should simply name the network class they wish to use. Later on, an environment setup module will import the correct network class based on the provided names."
   ]
  },
  {
   "cell_type": "code",
   "execution_count": 3,
   "metadata": {},
   "outputs": [],
   "source": [
    "# input parameter classes to the network class\n",
    "from flow.core.params import NetParams, InitialConfig\n",
    "\n",
    "# name of the network\n",
    "name = \"training_example\"\n",
    "\n",
    "# network-specific parameters\n",
    "from flow.networks.ring import ADDITIONAL_NET_PARAMS\n",
    "net_params = NetParams(additional_params=ADDITIONAL_NET_PARAMS)\n",
    "\n",
    "# initial configuration to vehicles\n",
    "initial_config = InitialConfig(spacing=\"uniform\", perturbation=1)"
   ]
  },
  {
   "cell_type": "markdown",
   "metadata": {},
   "source": [
    "### 2.2 Adding Trainable Autonomous Vehicles\n",
    "The `Vehicles` class stores state information on all vehicles in the network. This class is used to identify the dynamical features of a vehicle and whether it is controlled by a reinforcement learning agent. Morover, information pertaining to the observations and reward function can be collected from various `get` methods within this class.\n",
    "\n",
    "The dynamics of vehicles in the `Vehicles` class can either be depicted by sumo or by the dynamical methods located in flow/controllers. For human-driven vehicles, we use the IDM model for acceleration behavior, with exogenous gaussian acceleration noise with std 0.2 m/s2 to induce perturbations that produce stop-and-go behavior. In addition, we use the `ContinousRouter` routing controller so that the vehicles may maintain their routes closed networks.\n",
    "\n",
    "As we have done in `tutorial01_sumo.ipynb`, human-driven vehicles are defined in the `VehicleParams` class as follows:"
   ]
  },
  {
   "cell_type": "code",
   "execution_count": 4,
   "metadata": {},
   "outputs": [],
   "source": [
    "# vehicles class\n",
    "from flow.core.params import VehicleParams\n",
    "\n",
    "# vehicles dynamics models\n",
    "from flow.controllers import IDMController, ContinuousRouter\n",
    "\n",
    "vehicles = VehicleParams()\n",
    "vehicles.add(\"human\",\n",
    "             acceleration_controller=(IDMController, {}),\n",
    "             routing_controller=(ContinuousRouter, {}),\n",
    "             num_vehicles=21)"
   ]
  },
  {
   "cell_type": "markdown",
   "metadata": {},
   "source": [
    "The above addition to the `Vehicles` class only accounts for 21 of the 22 vehicles that are placed in the network. We now add an additional trainable autuonomous vehicle whose actions are dictated by an RL agent. This is done by specifying an `RLController` as the acceleraton controller to the vehicle. "
   ]
  },
  {
   "cell_type": "code",
   "execution_count": 5,
   "metadata": {},
   "outputs": [],
   "source": [
    "from flow.controllers import RLController"
   ]
  },
  {
   "cell_type": "markdown",
   "metadata": {},
   "source": [
    "Note that this controller serves primarirly as a placeholder that marks the vehicle as a component of the RL agent, meaning that lane changing and routing actions can also be specified by the RL agent to this vehicle.\n",
    "\n",
    "We finally add the vehicle as follows, while again using the `ContinuousRouter` to perpetually maintain the vehicle within the network."
   ]
  },
  {
   "cell_type": "code",
   "execution_count": 6,
   "metadata": {},
   "outputs": [],
   "source": [
    "vehicles.add(veh_id=\"rl\",\n",
    "             acceleration_controller=(RLController, {}),\n",
    "             routing_controller=(ContinuousRouter, {}),\n",
    "             num_vehicles=1)"
   ]
  },
  {
   "cell_type": "markdown",
   "metadata": {},
   "source": [
    "## 3. Setting up an Environment\n",
    "\n",
    "Several environments in Flow exist to train RL agents of different forms (e.g. autonomous vehicles, traffic lights) to perform a variety of different tasks. The use of an environment allows us to view the cumulative reward simulation rollouts receive, along with to specify the state/action spaces.\n",
    "\n",
    "Sumo envrionments in Flow are parametrized by three components:\n",
    "* `SumoParams`\n",
    "* `EnvParams`\n",
    "* `Network`\n",
    "\n",
    "### 3.1 SumoParams\n",
    "`SumoParams` specifies simulation-specific variables. These variables include the length of any simulation step and whether to render the GUI when running the experiment. For this example, we consider a simulation step length of 0.1s and deactivate the GUI. \n",
    "\n",
    "**Note** For training purposes, it is highly recommanded to deactivate the GUI in order to avoid global slow down. In such case, one just needs to specify the following: `render=False`"
   ]
  },
  {
   "cell_type": "code",
   "execution_count": 7,
   "metadata": {},
   "outputs": [],
   "source": [
    "from flow.core.params import SumoParams\n",
    "\n",
    "sim_params = SumoParams(sim_step=0.1, render=False)"
   ]
  },
  {
   "cell_type": "markdown",
   "metadata": {},
   "source": [
    "### 3.2 EnvParams\n",
    "\n",
    "`EnvParams` specifies environment and experiment-specific parameters that either affect the training process or the dynamics of various components within the network. For the environment `WaveAttenuationPOEnv`, these parameters are used to dictate bounds on the accelerations of the autonomous vehicles, as well as the range of ring lengths (and accordingly network densities) the agent is trained on.\n",
    "\n",
    "Finally, it is important to specify here the *horizon* of the experiment, which is the duration of one episode (during which the RL-agent acquire data). "
   ]
  },
  {
   "cell_type": "code",
   "execution_count": 8,
   "metadata": {},
   "outputs": [],
   "source": [
    "from flow.core.params import EnvParams\n",
    "\n",
    "# Define horizon as a variable to ensure consistent use across notebook\n",
    "HORIZON=100\n",
    "\n",
    "env_params = EnvParams(\n",
    "    # length of one rollout\n",
    "    horizon=HORIZON,\n",
    "\n",
    "    additional_params={\n",
    "        # maximum acceleration of autonomous vehicles\n",
    "        \"max_accel\": 1,\n",
    "        # maximum deceleration of autonomous vehicles\n",
    "        \"max_decel\": 1,\n",
    "        # bounds on the ranges of ring road lengths the autonomous vehicle \n",
    "        # is trained on\n",
    "        \"ring_length\": [220, 270],\n",
    "    },\n",
    ")"
   ]
  },
  {
   "cell_type": "markdown",
   "metadata": {},
   "source": [
    "### 3.3 Initializing a Gym Environment\n",
    "\n",
    "Now, we have to specify our Gym Environment and the algorithm that our RL agents will use. Similar to the network, we choose to use on of Flow's builtin environments, a list of which is provided by the script below."
   ]
  },
  {
   "cell_type": "code",
   "execution_count": 9,
   "metadata": {},
   "outputs": [
    {
     "name": "stdout",
     "output_type": "stream",
     "text": [
      "['Env', 'AccelEnv', 'LaneChangeAccelEnv', 'LaneChangeAccelPOEnv', 'TrafficLightGridTestEnv', 'MergePOEnv', 'BottleneckEnv', 'BottleneckAccelEnv', 'WaveAttenuationEnv', 'WaveAttenuationPOEnv', 'TrafficLightGridEnv', 'TrafficLightGridPOEnv', 'BottleneckDesiredVelocityEnv', 'TestEnv', 'BayBridgeEnv', 'BottleNeckAccelEnv', 'DesiredVelocityEnv', 'PO_TrafficLightGridEnv', 'GreenWaveTestEnv']\n"
     ]
    }
   ],
   "source": [
    "import flow.envs as flowenvs\n",
    "\n",
    "print(flowenvs.__all__)"
   ]
  },
  {
   "cell_type": "markdown",
   "metadata": {},
   "source": [
    "We will use the environment \"WaveAttenuationPOEnv\", which is used to train autonomous vehicles to attenuate the formation and propagation of waves in a partially observable variable density ring road. To create the Gym Environment, the only necessary parameters are the environment name plus the previously defined variables. These are defined as follows:"
   ]
  },
  {
   "cell_type": "code",
   "execution_count": 10,
   "metadata": {
    "scrolled": true
   },
   "outputs": [],
   "source": [
    "from flow.envs import WaveAttenuationPOEnv\n",
    "\n",
    "env_name = WaveAttenuationPOEnv"
   ]
  },
  {
   "cell_type": "markdown",
   "metadata": {},
   "source": [
    "### 3.4 Setting up Flow Parameters\n",
    "\n",
    "RLlib experiments both generate a `params.json` file for each experiment run. For RLlib experiments, the parameters defining the Flow network and environment must be stored as well. As such, in this section we define the dictionary `flow_params`, which contains the variables required by the utility function `make_create_env`. `make_create_env` is a higher-order function which returns a function `create_env` that initializes a Gym environment corresponding to the Flow network specified."
   ]
  },
  {
   "cell_type": "code",
   "execution_count": 11,
   "metadata": {},
   "outputs": [],
   "source": [
    "# Creating flow_params. Make sure the dictionary keys are as specified. \n",
    "flow_params = dict(\n",
    "    # name of the experiment\n",
    "    exp_tag=name,\n",
    "    # name of the flow environment the experiment is running on\n",
    "    env_name=env_name,\n",
    "    # name of the network class the experiment uses\n",
    "    network=network_name,\n",
    "    # simulator that is used by the experiment\n",
    "    simulator='traci',\n",
    "    # simulation-related parameters\n",
    "    sim=sim_params,\n",
    "    # environment related parameters (see flow.core.params.EnvParams)\n",
    "    env=env_params,\n",
    "    # network-related parameters (see flow.core.params.NetParams and\n",
    "    # the network's documentation or ADDITIONAL_NET_PARAMS component)\n",
    "    net=net_params,\n",
    "    # vehicles to be placed in the network at the start of a rollout \n",
    "    # (see flow.core.vehicles.Vehicles)\n",
    "    veh=vehicles,\n",
    "    # (optional) parameters affecting the positioning of vehicles upon \n",
    "    # initialization/reset (see flow.core.params.InitialConfig)\n",
    "    initial=initial_config\n",
    ")"
   ]
  },
  {
   "cell_type": "markdown",
   "metadata": {},
   "source": [
    "## 4 Running RL experiments in Ray\n",
    "\n",
    "### 4.1 Import \n",
    "\n",
    "First, we must import modules required to run experiments in Ray. The `json` package is required to store the Flow experiment parameters in the `params.json` file, as is `FlowParamsEncoder`. Ray-related imports are required: the PPO algorithm agent, `ray.tune`'s experiment runner, and environment helper methods `register_env` and `make_create_env`."
   ]
  },
  {
   "cell_type": "code",
   "execution_count": 12,
   "metadata": {},
   "outputs": [
    {
     "name": "stdout",
     "output_type": "stream",
     "text": [
      "WARNING:tensorflow:From /users/PYS1027/chnrhughes/.local/lib/python3.5/site-packages/tensorflow_core/python/compat/v2_compat.py:88: disable_resource_variables (from tensorflow.python.ops.variable_scope) is deprecated and will be removed in a future version.\n",
      "Instructions for updating:\n",
      "non-resource variables are not supported in the long term\n"
     ]
    }
   ],
   "source": [
    "import json\n",
    "\n",
    "import ray\n",
    "try:\n",
    "    from ray.rllib.agents.agent import get_agent_class\n",
    "except ImportError:\n",
    "    from ray.rllib.agents.registry import get_agent_class\n",
    "from ray.tune import run_experiments\n",
    "from ray.tune.registry import register_env\n",
    "\n",
    "from flow.utils.registry import make_create_env\n",
    "from flow.utils.rllib import FlowParamsEncoder"
   ]
  },
  {
   "cell_type": "markdown",
   "metadata": {},
   "source": [
    "### 4.2 Initializing Ray\n",
    "Here, we initialize Ray and experiment-based constant variables specifying parallelism in the experiment as well as experiment batch size in terms of number of rollouts."
   ]
  },
  {
   "cell_type": "code",
   "execution_count": 13,
   "metadata": {},
   "outputs": [
    {
     "name": "stderr",
     "output_type": "stream",
     "text": [
      "2020-03-22 14:46:05,082\tINFO node.py:498 -- Process STDOUT and STDERR is being redirected to /tmp/ray/session_2020-03-22_14-46-05_082210_449311/logs.\n",
      "2020-03-22 14:46:05,205\tINFO services.py:409 -- Waiting for redis server at 127.0.0.1:45391 to respond...\n",
      "2020-03-22 14:46:05,357\tINFO services.py:409 -- Waiting for redis server at 127.0.0.1:42169 to respond...\n",
      "2020-03-22 14:46:05,358\tINFO services.py:809 -- Starting Redis shard with 10.0 GB max memory.\n",
      "2020-03-22 14:46:05,400\tINFO node.py:512 -- Process STDOUT and STDERR is being redirected to /tmp/ray/session_2020-03-22_14-46-05_082210_449311/logs.\n",
      "2020-03-22 14:46:05,402\tWARNING services.py:1301 -- Warning: Capping object memory store to 20.0GB. To increase this further, specify `object_store_memory` when calling ray.init() or ray start.\n",
      "2020-03-22 14:46:05,403\tINFO services.py:1475 -- Starting the Plasma object store with 20.0 GB memory using /dev/shm.\n"
     ]
    },
    {
     "data": {
      "text/plain": [
       "{'node_ip_address': '10.4.2.25',\n",
       " 'object_store_address': '/tmp/ray/session_2020-03-22_14-46-05_082210_449311/sockets/plasma_store',\n",
       " 'raylet_socket_name': '/tmp/ray/session_2020-03-22_14-46-05_082210_449311/sockets/raylet',\n",
       " 'redis_address': '10.4.2.25:45391',\n",
       " 'session_dir': '/tmp/ray/session_2020-03-22_14-46-05_082210_449311',\n",
       " 'webui_url': None}"
      ]
     },
     "execution_count": 13,
     "metadata": {},
     "output_type": "execute_result"
    }
   ],
   "source": [
    "# number of parallel workers\n",
    "N_CPUS = 2\n",
    "# number of rollouts per training iteration\n",
    "N_ROLLOUTS = 1\n",
    "\n",
    "ray.init(num_cpus=N_CPUS)"
   ]
  },
  {
   "cell_type": "markdown",
   "metadata": {},
   "source": [
    "### 4.3 Configuration and Setup\n",
    "Here, we copy and modify the default configuration for the [PPO algorithm](https://arxiv.org/abs/1707.06347). The agent has the number of parallel workers specified, a batch size corresponding to `N_ROLLOUTS` rollouts (each of which has length `HORIZON` steps), a discount rate $\\gamma$ of 0.999, two hidden layers of size 16, uses Generalized Advantage Estimation, $\\lambda$ of 0.97, and other parameters as set below.\n",
    "\n",
    "Once `config` contains the desired parameters, a JSON string corresponding to the `flow_params` specified in section 3 is generated. The `FlowParamsEncoder` maps objects to string representations so that the experiment can be reproduced later. That string representation is stored within the `env_config` section of the `config` dictionary. Later, `config` is written out to the file `params.json`. \n",
    "\n",
    "Next, we call `make_create_env` and pass in the `flow_params` to return a function we can use to register our Flow environment with Gym. "
   ]
  },
  {
   "cell_type": "code",
   "execution_count": 14,
   "metadata": {},
   "outputs": [],
   "source": [
    "# The algorithm or model to train. This may refer to \"\n",
    "#      \"the name of a built-on algorithm (e.g. RLLib's DQN \"\n",
    "#      \"or PPO), or a user-defined trainable function or \"\n",
    "#      \"class registered in the tune registry.\")\n",
    "alg_run = \"PPO\"\n",
    "\n",
    "agent_cls = get_agent_class(alg_run)\n",
    "config = agent_cls._default_config.copy()\n",
    "config[\"num_workers\"] = N_CPUS - 1  # number of parallel workers\n",
    "config[\"train_batch_size\"] = HORIZON * N_ROLLOUTS  # batch size\n",
    "config[\"gamma\"] = 0.999  # discount rate\n",
    "config[\"model\"].update({\"fcnet_hiddens\": [16, 16]})  # size of hidden layers in network\n",
    "config[\"use_gae\"] = True  # using generalized advantage estimation\n",
    "config[\"lambda\"] = 0.97  \n",
    "config[\"sgd_minibatch_size\"] = min(16 * 1024, config[\"train_batch_size\"])  # stochastic gradient descent\n",
    "config[\"kl_target\"] = 0.02  # target KL divergence\n",
    "config[\"num_sgd_iter\"] = 10  # number of SGD iterations\n",
    "config[\"horizon\"] = HORIZON  # rollout horizon\n",
    "\n",
    "# save the flow params for replay\n",
    "flow_json = json.dumps(flow_params, cls=FlowParamsEncoder, sort_keys=True,\n",
    "                       indent=4)  # generating a string version of flow_params\n",
    "config['env_config']['flow_params'] = flow_json  # adding the flow_params to config dict\n",
    "config['env_config']['run'] = alg_run\n",
    "\n",
    "# Call the utility function make_create_env to be able to \n",
    "# register the Flow env for this experiment\n",
    "create_env, gym_name = make_create_env(params=flow_params, version=0)\n",
    "\n",
    "# Register as rllib env with Gym\n",
    "register_env(gym_name, create_env)"
   ]
  },
  {
   "cell_type": "markdown",
   "metadata": {},
   "source": [
    "### 4.4 Running Experiments\n",
    "\n",
    "Here, we use the `run_experiments` function from `ray.tune`. The function takes a dictionary with one key, a name corresponding to the experiment, and one value, itself a dictionary containing parameters for training."
   ]
  },
  {
   "cell_type": "code",
   "execution_count": 15,
   "metadata": {
    "scrolled": false
   },
   "outputs": [
    {
     "name": "stderr",
     "output_type": "stream",
     "text": [
      "2020-03-22 14:46:06,155\tINFO trial_runner.py:176 -- Starting a new experiment.\n",
      "2020-03-22 14:46:06,161\tWARNING signature.py:108 -- The function with_updates has a **kwargs argument, which is currently not supported.\n",
      "2020-03-22 14:46:06,175\tWARNING logger.py:227 -- Could not instantiate <class 'ray.tune.logger.TFLogger'> - skipping.\n",
      "2020-03-22 14:46:06,177\tERROR log_sync.py:34 -- Log sync requires cluster to be setup with `ray up`.\n"
     ]
    },
    {
     "name": "stdout",
     "output_type": "stream",
     "text": [
      "== Status ==\n",
      "Using FIFO scheduling algorithm.\n",
      "Resources requested: 0/2 CPUs, 0/0 GPUs\n",
      "Memory usage on this node: 10.2/201.2 GB\n",
      "\n",
      "== Status ==\n",
      "Using FIFO scheduling algorithm.\n",
      "Resources requested: 2/2 CPUs, 0/0 GPUs\n",
      "Memory usage on this node: 10.2/201.2 GB\n",
      "Result logdir: /users/PYS1027/chnrhughes/ray_results/training_example\n",
      "Number of trials: 1 ({'RUNNING': 1})\n",
      "RUNNING trials:\n",
      " - PPO_WaveAttenuationPOEnv-v0_0:\tRUNNING\n",
      "\n",
      "\u001b[2m\u001b[36m(pid=449803)\u001b[0m 2020-03-22 14:46:07.721166: W tensorflow/stream_executor/platform/default/dso_loader.cc:55] Could not load dynamic library 'libnvinfer.so.6'; dlerror: libnvinfer.so.6: cannot open shared object file: No such file or directory; LD_LIBRARY_PATH: /.singularity.d/libs\n",
      "\u001b[2m\u001b[36m(pid=449803)\u001b[0m 2020-03-22 14:46:07.721245: W tensorflow/stream_executor/platform/default/dso_loader.cc:55] Could not load dynamic library 'libnvinfer_plugin.so.6'; dlerror: libnvinfer_plugin.so.6: cannot open shared object file: No such file or directory; LD_LIBRARY_PATH: /.singularity.d/libs\n",
      "\u001b[2m\u001b[36m(pid=449803)\u001b[0m 2020-03-22 14:46:07.721256: W tensorflow/compiler/tf2tensorrt/utils/py_utils.cc:30] Cannot dlopen some TensorRT libraries. If you would like to use Nvidia GPU with TensorRT, please make sure the missing libraries mentioned above are installed properly.\n",
      "\u001b[2m\u001b[36m(pid=449803)\u001b[0m WARNING:tensorflow:From /users/PYS1027/chnrhughes/.local/lib/python3.5/site-packages/tensorflow_core/python/compat/v2_compat.py:88: disable_resource_variables (from tensorflow.python.ops.variable_scope) is deprecated and will be removed in a future version.\n",
      "\u001b[2m\u001b[36m(pid=449803)\u001b[0m Instructions for updating:\n",
      "\u001b[2m\u001b[36m(pid=449803)\u001b[0m non-resource variables are not supported in the long term\n",
      "\u001b[2m\u001b[36m(pid=449803)\u001b[0m 2020-03-22 14:46:10,861\tWARNING ppo.py:143 -- FYI: By default, the value function will not share layers with the policy model ('vf_share_layers': False).\n",
      "\u001b[2m\u001b[36m(pid=449803)\u001b[0m 2020-03-22 14:46:12,718\tINFO rollout_worker.py:319 -- Creating policy evaluation worker 0 on CPU (please ignore any CUDA init errors)\n",
      "\u001b[2m\u001b[36m(pid=449803)\u001b[0m 2020-03-22 14:46:12.719784: I tensorflow/core/platform/cpu_feature_guard.cc:142] Your CPU supports instructions that this TensorFlow binary was not compiled to use: AVX2 AVX512F FMA\n",
      "\u001b[2m\u001b[36m(pid=449803)\u001b[0m 2020-03-22 14:46:12.729090: I tensorflow/core/platform/profile_utils/cpu_utils.cc:94] CPU Frequency: 2400000000 Hz\n",
      "\u001b[2m\u001b[36m(pid=449803)\u001b[0m 2020-03-22 14:46:12.729519: I tensorflow/compiler/xla/service/service.cc:168] XLA service 0x70b7220 initialized for platform Host (this does not guarantee that XLA will be used). Devices:\n",
      "\u001b[2m\u001b[36m(pid=449803)\u001b[0m 2020-03-22 14:46:12.729548: I tensorflow/compiler/xla/service/service.cc:176]   StreamExecutor device (0): Host, Default Version\n",
      "\u001b[2m\u001b[36m(pid=449803)\u001b[0m 2020-03-22 14:46:12.732418: W tensorflow/stream_executor/platform/default/dso_loader.cc:55] Could not load dynamic library 'libcuda.so.1'; dlerror: libcuda.so.1: cannot open shared object file: No such file or directory; LD_LIBRARY_PATH: /.singularity.d/libs\n",
      "\u001b[2m\u001b[36m(pid=449803)\u001b[0m 2020-03-22 14:46:12.732441: E tensorflow/stream_executor/cuda/cuda_driver.cc:351] failed call to cuInit: UNKNOWN ERROR (303)\n",
      "\u001b[2m\u001b[36m(pid=449803)\u001b[0m 2020-03-22 14:46:12.732457: I tensorflow/stream_executor/cuda/cuda_diagnostics.cc:156] kernel driver does not appear to be running on this host (p0078.ten.osc.edu): /proc/driver/nvidia/version does not exist\n",
      "\u001b[2m\u001b[36m(pid=449803)\u001b[0m WARNING:tensorflow:From /usr/local/lib/python3.5/dist-packages/ray/rllib/models/tf/fcnet_v1.py:48: dense (from tensorflow.python.layers.core) is deprecated and will be removed in a future version.\n",
      "\u001b[2m\u001b[36m(pid=449803)\u001b[0m Instructions for updating:\n",
      "\u001b[2m\u001b[36m(pid=449803)\u001b[0m Use keras.layers.Dense instead.\n",
      "\u001b[2m\u001b[36m(pid=449803)\u001b[0m WARNING:tensorflow:From /usr/local/lib/python3.5/dist-packages/ray/rllib/models/tf/fcnet_v1.py:48: dense (from tensorflow.python.layers.core) is deprecated and will be removed in a future version.\n",
      "\u001b[2m\u001b[36m(pid=449803)\u001b[0m Instructions for updating:\n",
      "\u001b[2m\u001b[36m(pid=449803)\u001b[0m Use keras.layers.Dense instead.\n",
      "\u001b[2m\u001b[36m(pid=449803)\u001b[0m WARNING:tensorflow:From /users/PYS1027/chnrhughes/.local/lib/python3.5/site-packages/tensorflow_core/python/layers/core.py:187: Layer.apply (from tensorflow.python.keras.engine.base_layer) is deprecated and will be removed in a future version.\n",
      "\u001b[2m\u001b[36m(pid=449803)\u001b[0m Instructions for updating:\n",
      "\u001b[2m\u001b[36m(pid=449803)\u001b[0m Please use `layer.__call__` method instead.\n",
      "\u001b[2m\u001b[36m(pid=449803)\u001b[0m WARNING:tensorflow:From /users/PYS1027/chnrhughes/.local/lib/python3.5/site-packages/tensorflow_core/python/layers/core.py:187: Layer.apply (from tensorflow.python.keras.engine.base_layer) is deprecated and will be removed in a future version.\n",
      "\u001b[2m\u001b[36m(pid=449803)\u001b[0m Instructions for updating:\n",
      "\u001b[2m\u001b[36m(pid=449803)\u001b[0m Please use `layer.__call__` method instead.\n",
      "\u001b[2m\u001b[36m(pid=449803)\u001b[0m WARNING:tensorflow:From /usr/local/lib/python3.5/dist-packages/ray/rllib/models/tf/tf_action_dist.py:138: to_float (from tensorflow.python.ops.math_ops) is deprecated and will be removed in a future version.\n",
      "\u001b[2m\u001b[36m(pid=449803)\u001b[0m Instructions for updating:\n",
      "\u001b[2m\u001b[36m(pid=449803)\u001b[0m Use `tf.cast` instead.\n",
      "\u001b[2m\u001b[36m(pid=449803)\u001b[0m WARNING:tensorflow:From /usr/local/lib/python3.5/dist-packages/ray/rllib/models/tf/tf_action_dist.py:138: to_float (from tensorflow.python.ops.math_ops) is deprecated and will be removed in a future version.\n",
      "\u001b[2m\u001b[36m(pid=449803)\u001b[0m Instructions for updating:\n",
      "\u001b[2m\u001b[36m(pid=449803)\u001b[0m Use `tf.cast` instead.\n",
      "\u001b[2m\u001b[36m(pid=449803)\u001b[0m 2020-03-22 14:46:12,941\tINFO dynamic_tf_policy.py:324 -- Initializing loss function with dummy input:\n",
      "\u001b[2m\u001b[36m(pid=449803)\u001b[0m \n",
      "\u001b[2m\u001b[36m(pid=449803)\u001b[0m { 'action_prob': <tf.Tensor 'default_policy/action_prob:0' shape=(?,) dtype=float32>,\n",
      "\u001b[2m\u001b[36m(pid=449803)\u001b[0m   'actions': <tf.Tensor 'default_policy/actions:0' shape=(?, 1) dtype=float32>,\n",
      "\u001b[2m\u001b[36m(pid=449803)\u001b[0m   'advantages': <tf.Tensor 'default_policy/advantages:0' shape=(?,) dtype=float32>,\n",
      "\u001b[2m\u001b[36m(pid=449803)\u001b[0m   'behaviour_logits': <tf.Tensor 'default_policy/behaviour_logits:0' shape=(?, 2) dtype=float32>,\n",
      "\u001b[2m\u001b[36m(pid=449803)\u001b[0m   'dones': <tf.Tensor 'default_policy/dones:0' shape=(?,) dtype=bool>,\n",
      "\u001b[2m\u001b[36m(pid=449803)\u001b[0m   'new_obs': <tf.Tensor 'default_policy/new_obs:0' shape=(?, 3) dtype=float32>,\n",
      "\u001b[2m\u001b[36m(pid=449803)\u001b[0m   'obs': <tf.Tensor 'default_policy/observation:0' shape=(?, 3) dtype=float32>,\n",
      "\u001b[2m\u001b[36m(pid=449803)\u001b[0m   'prev_actions': <tf.Tensor 'default_policy/action:0' shape=(?, 1) dtype=float32>,\n",
      "\u001b[2m\u001b[36m(pid=449803)\u001b[0m   'prev_rewards': <tf.Tensor 'default_policy/prev_reward:0' shape=(?,) dtype=float32>,\n",
      "\u001b[2m\u001b[36m(pid=449803)\u001b[0m   'rewards': <tf.Tensor 'default_policy/rewards:0' shape=(?,) dtype=float32>,\n",
      "\u001b[2m\u001b[36m(pid=449803)\u001b[0m   'value_targets': <tf.Tensor 'default_policy/value_targets:0' shape=(?,) dtype=float32>,\n",
      "\u001b[2m\u001b[36m(pid=449803)\u001b[0m   'vf_preds': <tf.Tensor 'default_policy/vf_preds:0' shape=(?,) dtype=float32>}\n",
      "\u001b[2m\u001b[36m(pid=449803)\u001b[0m \n",
      "\u001b[2m\u001b[36m(pid=449803)\u001b[0m 2020-03-22 14:46:13,522\tINFO rollout_worker.py:742 -- Built policy map: {'default_policy': <ray.rllib.policy.tf_policy_template.PPOTFPolicy object at 0x2b1ccc5976a0>}\n",
      "\u001b[2m\u001b[36m(pid=449803)\u001b[0m 2020-03-22 14:46:13,522\tINFO rollout_worker.py:743 -- Built preprocessor map: {'default_policy': <ray.rllib.models.preprocessors.NoPreprocessor object at 0x2b1ccc597400>}\n",
      "\u001b[2m\u001b[36m(pid=449803)\u001b[0m 2020-03-22 14:46:13,522\tINFO rollout_worker.py:356 -- Built filter map: {'default_policy': <ray.rllib.utils.filter.NoFilter object at 0x2b1ccc5972b0>}\n",
      "\u001b[2m\u001b[36m(pid=449803)\u001b[0m 2020-03-22 14:46:13,547\tINFO multi_gpu_optimizer.py:93 -- LocalMultiGPUOptimizer devices ['/cpu:0']\n",
      "\u001b[2m\u001b[36m(pid=449804)\u001b[0m 2020-03-22 14:46:15.073641: W tensorflow/stream_executor/platform/default/dso_loader.cc:55] Could not load dynamic library 'libnvinfer.so.6'; dlerror: libnvinfer.so.6: cannot open shared object file: No such file or directory; LD_LIBRARY_PATH: /.singularity.d/libs\n",
      "\u001b[2m\u001b[36m(pid=449804)\u001b[0m 2020-03-22 14:46:15.073735: W tensorflow/stream_executor/platform/default/dso_loader.cc:55] Could not load dynamic library 'libnvinfer_plugin.so.6'; dlerror: libnvinfer_plugin.so.6: cannot open shared object file: No such file or directory; LD_LIBRARY_PATH: /.singularity.d/libs\n",
      "\u001b[2m\u001b[36m(pid=449804)\u001b[0m 2020-03-22 14:46:15.073746: W tensorflow/compiler/tf2tensorrt/utils/py_utils.cc:30] Cannot dlopen some TensorRT libraries. If you would like to use Nvidia GPU with TensorRT, please make sure the missing libraries mentioned above are installed properly.\n",
      "\u001b[2m\u001b[36m(pid=449803)\u001b[0m 2020-03-22 14:46:15,211\tWARNING util.py:47 -- Install gputil for GPU system monitoring.\n",
      "\u001b[2m\u001b[36m(pid=449803)\u001b[0m WARNING:tensorflow:From /usr/local/lib/python3.5/dist-packages/ray/rllib/policy/tf_policy.py:570: Variable.load (from tensorflow.python.ops.variables) is deprecated and will be removed in a future version.\n",
      "\u001b[2m\u001b[36m(pid=449803)\u001b[0m Instructions for updating:\n",
      "\u001b[2m\u001b[36m(pid=449803)\u001b[0m Prefer Variable.assign which has equivalent behavior in 2.X.\n",
      "\u001b[2m\u001b[36m(pid=449803)\u001b[0m WARNING:tensorflow:From /usr/local/lib/python3.5/dist-packages/ray/rllib/policy/tf_policy.py:570: Variable.load (from tensorflow.python.ops.variables) is deprecated and will be removed in a future version.\n",
      "\u001b[2m\u001b[36m(pid=449803)\u001b[0m Instructions for updating:\n",
      "\u001b[2m\u001b[36m(pid=449803)\u001b[0m Prefer Variable.assign which has equivalent behavior in 2.X.\n"
     ]
    },
    {
     "name": "stdout",
     "output_type": "stream",
     "text": [
      "\u001b[2m\u001b[36m(pid=449804)\u001b[0m WARNING:tensorflow:From /users/PYS1027/chnrhughes/.local/lib/python3.5/site-packages/tensorflow_core/python/compat/v2_compat.py:88: disable_resource_variables (from tensorflow.python.ops.variable_scope) is deprecated and will be removed in a future version.\n",
      "\u001b[2m\u001b[36m(pid=449804)\u001b[0m Instructions for updating:\n",
      "\u001b[2m\u001b[36m(pid=449804)\u001b[0m non-resource variables are not supported in the long term\n",
      "\u001b[2m\u001b[36m(pid=449804)\u001b[0m 2020-03-22 14:46:18,767\tINFO rollout_worker.py:319 -- Creating policy evaluation worker 1 on CPU (please ignore any CUDA init errors)\n",
      "\u001b[2m\u001b[36m(pid=449804)\u001b[0m 2020-03-22 14:46:18.768639: I tensorflow/core/platform/cpu_feature_guard.cc:142] Your CPU supports instructions that this TensorFlow binary was not compiled to use: AVX2 AVX512F FMA\n",
      "\u001b[2m\u001b[36m(pid=449804)\u001b[0m 2020-03-22 14:46:18.778149: I tensorflow/core/platform/profile_utils/cpu_utils.cc:94] CPU Frequency: 2400000000 Hz\n",
      "\u001b[2m\u001b[36m(pid=449804)\u001b[0m 2020-03-22 14:46:18.778288: I tensorflow/compiler/xla/service/service.cc:168] XLA service 0x657c2f0 initialized for platform Host (this does not guarantee that XLA will be used). Devices:\n",
      "\u001b[2m\u001b[36m(pid=449804)\u001b[0m 2020-03-22 14:46:18.778311: I tensorflow/compiler/xla/service/service.cc:176]   StreamExecutor device (0): Host, Default Version\n",
      "\u001b[2m\u001b[36m(pid=449804)\u001b[0m 2020-03-22 14:46:18.780261: W tensorflow/stream_executor/platform/default/dso_loader.cc:55] Could not load dynamic library 'libcuda.so.1'; dlerror: libcuda.so.1: cannot open shared object file: No such file or directory; LD_LIBRARY_PATH: /.singularity.d/libs\n",
      "\u001b[2m\u001b[36m(pid=449804)\u001b[0m 2020-03-22 14:46:18.780282: E tensorflow/stream_executor/cuda/cuda_driver.cc:351] failed call to cuInit: UNKNOWN ERROR (303)\n",
      "\u001b[2m\u001b[36m(pid=449804)\u001b[0m 2020-03-22 14:46:18.780299: I tensorflow/stream_executor/cuda/cuda_diagnostics.cc:156] kernel driver does not appear to be running on this host (p0078.ten.osc.edu): /proc/driver/nvidia/version does not exist\n",
      "\u001b[2m\u001b[36m(pid=449804)\u001b[0m WARNING:tensorflow:From /usr/local/lib/python3.5/dist-packages/ray/rllib/models/tf/fcnet_v1.py:48: dense (from tensorflow.python.layers.core) is deprecated and will be removed in a future version.\n",
      "\u001b[2m\u001b[36m(pid=449804)\u001b[0m Instructions for updating:\n",
      "\u001b[2m\u001b[36m(pid=449804)\u001b[0m Use keras.layers.Dense instead.\n",
      "\u001b[2m\u001b[36m(pid=449804)\u001b[0m WARNING:tensorflow:From /usr/local/lib/python3.5/dist-packages/ray/rllib/models/tf/fcnet_v1.py:48: dense (from tensorflow.python.layers.core) is deprecated and will be removed in a future version.\n",
      "\u001b[2m\u001b[36m(pid=449804)\u001b[0m Instructions for updating:\n",
      "\u001b[2m\u001b[36m(pid=449804)\u001b[0m Use keras.layers.Dense instead.\n",
      "\u001b[2m\u001b[36m(pid=449804)\u001b[0m WARNING:tensorflow:From /users/PYS1027/chnrhughes/.local/lib/python3.5/site-packages/tensorflow_core/python/layers/core.py:187: Layer.apply (from tensorflow.python.keras.engine.base_layer) is deprecated and will be removed in a future version.\n",
      "\u001b[2m\u001b[36m(pid=449804)\u001b[0m Instructions for updating:\n",
      "\u001b[2m\u001b[36m(pid=449804)\u001b[0m Please use `layer.__call__` method instead.\n",
      "\u001b[2m\u001b[36m(pid=449804)\u001b[0m WARNING:tensorflow:From /users/PYS1027/chnrhughes/.local/lib/python3.5/site-packages/tensorflow_core/python/layers/core.py:187: Layer.apply (from tensorflow.python.keras.engine.base_layer) is deprecated and will be removed in a future version.\n",
      "\u001b[2m\u001b[36m(pid=449804)\u001b[0m Instructions for updating:\n",
      "\u001b[2m\u001b[36m(pid=449804)\u001b[0m Please use `layer.__call__` method instead.\n",
      "\u001b[2m\u001b[36m(pid=449804)\u001b[0m WARNING:tensorflow:From /usr/local/lib/python3.5/dist-packages/ray/rllib/models/tf/tf_action_dist.py:138: to_float (from tensorflow.python.ops.math_ops) is deprecated and will be removed in a future version.\n",
      "\u001b[2m\u001b[36m(pid=449804)\u001b[0m Instructions for updating:\n",
      "\u001b[2m\u001b[36m(pid=449804)\u001b[0m Use `tf.cast` instead.\n",
      "\u001b[2m\u001b[36m(pid=449804)\u001b[0m WARNING:tensorflow:From /usr/local/lib/python3.5/dist-packages/ray/rllib/models/tf/tf_action_dist.py:138: to_float (from tensorflow.python.ops.math_ops) is deprecated and will be removed in a future version.\n",
      "\u001b[2m\u001b[36m(pid=449804)\u001b[0m Instructions for updating:\n",
      "\u001b[2m\u001b[36m(pid=449804)\u001b[0m Use `tf.cast` instead.\n",
      "\u001b[2m\u001b[36m(pid=449804)\u001b[0m 2020-03-22 14:46:18,885\tINFO dynamic_tf_policy.py:324 -- Initializing loss function with dummy input:\n",
      "\u001b[2m\u001b[36m(pid=449804)\u001b[0m \n",
      "\u001b[2m\u001b[36m(pid=449804)\u001b[0m { 'action_prob': <tf.Tensor 'default_policy/action_prob:0' shape=(?,) dtype=float32>,\n",
      "\u001b[2m\u001b[36m(pid=449804)\u001b[0m   'actions': <tf.Tensor 'default_policy/actions:0' shape=(?, 1) dtype=float32>,\n",
      "\u001b[2m\u001b[36m(pid=449804)\u001b[0m   'advantages': <tf.Tensor 'default_policy/advantages:0' shape=(?,) dtype=float32>,\n",
      "\u001b[2m\u001b[36m(pid=449804)\u001b[0m   'behaviour_logits': <tf.Tensor 'default_policy/behaviour_logits:0' shape=(?, 2) dtype=float32>,\n",
      "\u001b[2m\u001b[36m(pid=449804)\u001b[0m   'dones': <tf.Tensor 'default_policy/dones:0' shape=(?,) dtype=bool>,\n",
      "\u001b[2m\u001b[36m(pid=449804)\u001b[0m   'new_obs': <tf.Tensor 'default_policy/new_obs:0' shape=(?, 3) dtype=float32>,\n",
      "\u001b[2m\u001b[36m(pid=449804)\u001b[0m   'obs': <tf.Tensor 'default_policy/observation:0' shape=(?, 3) dtype=float32>,\n",
      "\u001b[2m\u001b[36m(pid=449804)\u001b[0m   'prev_actions': <tf.Tensor 'default_policy/action:0' shape=(?, 1) dtype=float32>,\n",
      "\u001b[2m\u001b[36m(pid=449804)\u001b[0m   'prev_rewards': <tf.Tensor 'default_policy/prev_reward:0' shape=(?,) dtype=float32>,\n",
      "\u001b[2m\u001b[36m(pid=449804)\u001b[0m   'rewards': <tf.Tensor 'default_policy/rewards:0' shape=(?,) dtype=float32>,\n",
      "\u001b[2m\u001b[36m(pid=449804)\u001b[0m   'value_targets': <tf.Tensor 'default_policy/value_targets:0' shape=(?,) dtype=float32>,\n",
      "\u001b[2m\u001b[36m(pid=449804)\u001b[0m   'vf_preds': <tf.Tensor 'default_policy/vf_preds:0' shape=(?,) dtype=float32>}\n",
      "\u001b[2m\u001b[36m(pid=449804)\u001b[0m \n",
      "\u001b[2m\u001b[36m(pid=449804)\u001b[0m WARNING:tensorflow:From /usr/local/lib/python3.5/dist-packages/ray/rllib/policy/tf_policy.py:570: Variable.load (from tensorflow.python.ops.variables) is deprecated and will be removed in a future version.\n",
      "\u001b[2m\u001b[36m(pid=449804)\u001b[0m Instructions for updating:\n",
      "\u001b[2m\u001b[36m(pid=449804)\u001b[0m Prefer Variable.assign which has equivalent behavior in 2.X.\n",
      "\u001b[2m\u001b[36m(pid=449804)\u001b[0m WARNING:tensorflow:From /usr/local/lib/python3.5/dist-packages/ray/rllib/policy/tf_policy.py:570: Variable.load (from tensorflow.python.ops.variables) is deprecated and will be removed in a future version.\n",
      "\u001b[2m\u001b[36m(pid=449804)\u001b[0m Instructions for updating:\n",
      "\u001b[2m\u001b[36m(pid=449804)\u001b[0m Prefer Variable.assign which has equivalent behavior in 2.X.\n",
      "\u001b[2m\u001b[36m(pid=449804)\u001b[0m \n",
      "\u001b[2m\u001b[36m(pid=449804)\u001b[0m -----------------------\n",
      "\u001b[2m\u001b[36m(pid=449804)\u001b[0m ring length: 255\n",
      "\u001b[2m\u001b[36m(pid=449804)\u001b[0m v_max: 4.902299776966978\n",
      "\u001b[2m\u001b[36m(pid=449804)\u001b[0m -----------------------\n",
      "\u001b[2m\u001b[36m(pid=449804)\u001b[0m 2020-03-22 14:46:19,452\tINFO rollout_worker.py:451 -- Generating sample batch of size 200\n",
      "\u001b[2m\u001b[36m(pid=449804)\u001b[0m 2020-03-22 14:46:20,594\tINFO sampler.py:304 -- Raw obs from env: { 0: { 'agent0': np.ndarray((3,), dtype=float64, min=0.0, max=0.043, mean=0.014)}}\n",
      "\u001b[2m\u001b[36m(pid=449804)\u001b[0m 2020-03-22 14:46:20,594\tINFO sampler.py:305 -- Info return from env: {0: {'agent0': None}}\n",
      "\u001b[2m\u001b[36m(pid=449804)\u001b[0m 2020-03-22 14:46:20,594\tINFO sampler.py:403 -- Preprocessed obs: np.ndarray((3,), dtype=float64, min=0.0, max=0.043, mean=0.014)\n",
      "\u001b[2m\u001b[36m(pid=449804)\u001b[0m 2020-03-22 14:46:20,594\tINFO sampler.py:407 -- Filtered obs: np.ndarray((3,), dtype=float64, min=0.0, max=0.043, mean=0.014)\n",
      "\u001b[2m\u001b[36m(pid=449804)\u001b[0m 2020-03-22 14:46:20,595\tINFO sampler.py:521 -- Inputs to compute_actions():\n",
      "\u001b[2m\u001b[36m(pid=449804)\u001b[0m \n",
      "\u001b[2m\u001b[36m(pid=449804)\u001b[0m { 'default_policy': [ { 'data': { 'agent_id': 'agent0',\n",
      "\u001b[2m\u001b[36m(pid=449804)\u001b[0m                                   'env_id': 0,\n",
      "\u001b[2m\u001b[36m(pid=449804)\u001b[0m                                   'info': None,\n",
      "\u001b[2m\u001b[36m(pid=449804)\u001b[0m                                   'obs': np.ndarray((3,), dtype=float64, min=0.0, max=0.043, mean=0.014),\n",
      "\u001b[2m\u001b[36m(pid=449804)\u001b[0m                                   'prev_action': np.ndarray((1,), dtype=float32, min=0.0, max=0.0, mean=0.0),\n",
      "\u001b[2m\u001b[36m(pid=449804)\u001b[0m                                   'prev_reward': 0.0,\n",
      "\u001b[2m\u001b[36m(pid=449804)\u001b[0m                                   'rnn_state': []},\n",
      "\u001b[2m\u001b[36m(pid=449804)\u001b[0m                         'type': 'PolicyEvalData'}]}\n",
      "\u001b[2m\u001b[36m(pid=449804)\u001b[0m \n",
      "\u001b[2m\u001b[36m(pid=449804)\u001b[0m 2020-03-22 14:46:20,595\tINFO tf_run_builder.py:92 -- Executing TF run without tracing. To dump TF timeline traces to disk, set the TF_TIMELINE_DIR environment variable.\n",
      "\u001b[2m\u001b[36m(pid=449804)\u001b[0m 2020-03-22 14:46:20,678\tINFO sampler.py:548 -- Outputs of compute_actions():\n",
      "\u001b[2m\u001b[36m(pid=449804)\u001b[0m \n",
      "\u001b[2m\u001b[36m(pid=449804)\u001b[0m { 'default_policy': ( np.ndarray((1, 1), dtype=float32, min=-0.704, max=-0.704, mean=-0.704),\n",
      "\u001b[2m\u001b[36m(pid=449804)\u001b[0m                       [],\n",
      "\u001b[2m\u001b[36m(pid=449804)\u001b[0m                       { 'action_prob': np.ndarray((1,), dtype=float32, min=0.311, max=0.311, mean=0.311),\n",
      "\u001b[2m\u001b[36m(pid=449804)\u001b[0m                         'behaviour_logits': np.ndarray((1, 2), dtype=float32, min=-0.0, max=-0.0, mean=-0.0),\n",
      "\u001b[2m\u001b[36m(pid=449804)\u001b[0m                         'vf_preds': np.ndarray((1,), dtype=float32, min=-0.0, max=-0.0, mean=-0.0)})}\n",
      "\u001b[2m\u001b[36m(pid=449804)\u001b[0m \n"
     ]
    },
    {
     "name": "stdout",
     "output_type": "stream",
     "text": [
      "\u001b[2m\u001b[36m(pid=449804)\u001b[0m \n",
      "\u001b[2m\u001b[36m(pid=449804)\u001b[0m -----------------------\n",
      "\u001b[2m\u001b[36m(pid=449804)\u001b[0m ring length: 225\n",
      "\u001b[2m\u001b[36m(pid=449804)\u001b[0m v_max: 3.4756971311168834\n",
      "\u001b[2m\u001b[36m(pid=449804)\u001b[0m -----------------------\n",
      "\u001b[2m\u001b[36m(pid=449804)\u001b[0m 2020-03-22 14:46:21,055\tINFO sample_batch_builder.py:161 -- Trajectory fragment after postprocess_trajectory():\n",
      "\u001b[2m\u001b[36m(pid=449804)\u001b[0m \n",
      "\u001b[2m\u001b[36m(pid=449804)\u001b[0m { 'agent0': { 'data': { 'action_prob': np.ndarray((100,), dtype=float32, min=0.008, max=0.4, mean=0.274),\n",
      "\u001b[2m\u001b[36m(pid=449804)\u001b[0m                         'actions': np.ndarray((100, 1), dtype=float32, min=-2.78, max=2.491, mean=-0.27),\n",
      "\u001b[2m\u001b[36m(pid=449804)\u001b[0m                         'advantages': np.ndarray((100,), dtype=float32, min=-70.772, max=-3.452, mean=-47.134),\n",
      "\u001b[2m\u001b[36m(pid=449804)\u001b[0m                         'agent_index': np.ndarray((100,), dtype=int64, min=0.0, max=0.0, mean=0.0),\n",
      "\u001b[2m\u001b[36m(pid=449804)\u001b[0m                         'behaviour_logits': np.ndarray((100, 2), dtype=float32, min=-0.002, max=-0.0, mean=-0.001),\n",
      "\u001b[2m\u001b[36m(pid=449804)\u001b[0m                         'dones': np.ndarray((100,), dtype=bool, min=0.0, max=1.0, mean=0.01),\n",
      "\u001b[2m\u001b[36m(pid=449804)\u001b[0m                         'eps_id': np.ndarray((100,), dtype=int64, min=829467388.0, max=829467388.0, mean=829467388.0),\n",
      "\u001b[2m\u001b[36m(pid=449804)\u001b[0m                         'infos': np.ndarray((100,), dtype=object, head={}),\n",
      "\u001b[2m\u001b[36m(pid=449804)\u001b[0m                         'new_obs': np.ndarray((100, 3), dtype=float32, min=0.0, max=0.247, mean=0.089),\n",
      "\u001b[2m\u001b[36m(pid=449804)\u001b[0m                         'obs': np.ndarray((100, 3), dtype=float32, min=0.0, max=0.245, mean=0.088),\n",
      "\u001b[2m\u001b[36m(pid=449804)\u001b[0m                         'prev_actions': np.ndarray((100, 1), dtype=float32, min=-2.78, max=2.491, mean=-0.258),\n",
      "\u001b[2m\u001b[36m(pid=449804)\u001b[0m                         'prev_rewards': np.ndarray((100,), dtype=float32, min=-3.949, max=0.473, mean=-2.106),\n",
      "\u001b[2m\u001b[36m(pid=449804)\u001b[0m                         'rewards': np.ndarray((100,), dtype=float32, min=-3.949, max=0.473, mean=-2.141),\n",
      "\u001b[2m\u001b[36m(pid=449804)\u001b[0m                         't': np.ndarray((100,), dtype=int64, min=0.0, max=99.0, mean=49.5),\n",
      "\u001b[2m\u001b[36m(pid=449804)\u001b[0m                         'unroll_id': np.ndarray((100,), dtype=int64, min=0.0, max=0.0, mean=0.0),\n",
      "\u001b[2m\u001b[36m(pid=449804)\u001b[0m                         'value_targets': np.ndarray((100,), dtype=float32, min=-70.773, max=-3.452, mean=-47.134),\n",
      "\u001b[2m\u001b[36m(pid=449804)\u001b[0m                         'vf_preds': np.ndarray((100,), dtype=float32, min=-0.0, max=0.0, mean=0.0)},\n",
      "\u001b[2m\u001b[36m(pid=449804)\u001b[0m               'type': 'SampleBatch'}}\n",
      "\u001b[2m\u001b[36m(pid=449804)\u001b[0m \n",
      "\u001b[2m\u001b[36m(pid=449804)\u001b[0m \n",
      "\u001b[2m\u001b[36m(pid=449804)\u001b[0m -----------------------\n",
      "\u001b[2m\u001b[36m(pid=449804)\u001b[0m ring length: 264\n",
      "\u001b[2m\u001b[36m(pid=449804)\u001b[0m v_max: 5.329679917416892\n",
      "\u001b[2m\u001b[36m(pid=449804)\u001b[0m -----------------------\n",
      "\u001b[2m\u001b[36m(pid=449804)\u001b[0m 2020-03-22 14:46:23,717\tINFO rollout_worker.py:485 -- Completed sample batch:\n",
      "\u001b[2m\u001b[36m(pid=449804)\u001b[0m \n",
      "\u001b[2m\u001b[36m(pid=449804)\u001b[0m { 'data': { 'action_prob': np.ndarray((200,), dtype=float32, min=0.008, max=0.4, mean=0.281),\n",
      "\u001b[2m\u001b[36m(pid=449804)\u001b[0m             'actions': np.ndarray((200, 1), dtype=float32, min=-2.78, max=2.491, mean=-0.159),\n",
      "\u001b[2m\u001b[36m(pid=449804)\u001b[0m             'advantages': np.ndarray((200,), dtype=float32, min=-70.862, max=-1.141, mean=-48.945),\n",
      "\u001b[2m\u001b[36m(pid=449804)\u001b[0m             'agent_index': np.ndarray((200,), dtype=int64, min=0.0, max=0.0, mean=0.0),\n",
      "\u001b[2m\u001b[36m(pid=449804)\u001b[0m             'behaviour_logits': np.ndarray((200, 2), dtype=float32, min=-0.002, max=-0.0, mean=-0.001),\n",
      "\u001b[2m\u001b[36m(pid=449804)\u001b[0m             'dones': np.ndarray((200,), dtype=bool, min=0.0, max=1.0, mean=0.01),\n",
      "\u001b[2m\u001b[36m(pid=449804)\u001b[0m             'eps_id': np.ndarray((200,), dtype=int64, min=768381304.0, max=829467388.0, mean=798924346.0),\n",
      "\u001b[2m\u001b[36m(pid=449804)\u001b[0m             'infos': np.ndarray((200,), dtype=object, head={}),\n",
      "\u001b[2m\u001b[36m(pid=449804)\u001b[0m             'new_obs': np.ndarray((200, 3), dtype=float32, min=0.0, max=0.247, mean=0.079),\n",
      "\u001b[2m\u001b[36m(pid=449804)\u001b[0m             'obs': np.ndarray((200, 3), dtype=float32, min=0.0, max=0.245, mean=0.078),\n",
      "\u001b[2m\u001b[36m(pid=449804)\u001b[0m             'prev_actions': np.ndarray((200, 1), dtype=float32, min=-2.78, max=2.491, mean=-0.155),\n",
      "\u001b[2m\u001b[36m(pid=449804)\u001b[0m             'prev_rewards': np.ndarray((200,), dtype=float32, min=-3.949, max=0.473, mean=-2.145),\n",
      "\u001b[2m\u001b[36m(pid=449804)\u001b[0m             'rewards': np.ndarray((200,), dtype=float32, min=-3.949, max=0.473, mean=-2.168),\n",
      "\u001b[2m\u001b[36m(pid=449804)\u001b[0m             't': np.ndarray((200,), dtype=int64, min=0.0, max=99.0, mean=49.5),\n",
      "\u001b[2m\u001b[36m(pid=449804)\u001b[0m             'unroll_id': np.ndarray((200,), dtype=int64, min=0.0, max=0.0, mean=0.0),\n",
      "\u001b[2m\u001b[36m(pid=449804)\u001b[0m             'value_targets': np.ndarray((200,), dtype=float32, min=-70.862, max=-1.141, mean=-48.945),\n",
      "\u001b[2m\u001b[36m(pid=449804)\u001b[0m             'vf_preds': np.ndarray((200,), dtype=float32, min=-0.0, max=0.0, mean=0.0)},\n",
      "\u001b[2m\u001b[36m(pid=449804)\u001b[0m   'type': 'SampleBatch'}\n",
      "\u001b[2m\u001b[36m(pid=449804)\u001b[0m \n",
      "\u001b[2m\u001b[36m(pid=449803)\u001b[0m 2020-03-22 14:46:23,732\tINFO tf_policy.py:355 -- Optimizing variable <tf.Variable 'default_policy/default_model/fc1/kernel:0' shape=(3, 16) dtype=float32_ref>\n",
      "\u001b[2m\u001b[36m(pid=449803)\u001b[0m 2020-03-22 14:46:23,732\tINFO tf_policy.py:355 -- Optimizing variable <tf.Variable 'default_policy/default_model/fc1/bias:0' shape=(16,) dtype=float32_ref>\n",
      "\u001b[2m\u001b[36m(pid=449803)\u001b[0m 2020-03-22 14:46:23,732\tINFO tf_policy.py:355 -- Optimizing variable <tf.Variable 'default_policy/default_model/fc2/kernel:0' shape=(16, 16) dtype=float32_ref>\n",
      "\u001b[2m\u001b[36m(pid=449803)\u001b[0m 2020-03-22 14:46:23,732\tINFO tf_policy.py:355 -- Optimizing variable <tf.Variable 'default_policy/default_model/fc2/bias:0' shape=(16,) dtype=float32_ref>\n",
      "\u001b[2m\u001b[36m(pid=449803)\u001b[0m 2020-03-22 14:46:23,732\tINFO tf_policy.py:355 -- Optimizing variable <tf.Variable 'default_policy/default_model/fc_out/kernel:0' shape=(16, 2) dtype=float32_ref>\n",
      "\u001b[2m\u001b[36m(pid=449803)\u001b[0m 2020-03-22 14:46:23,732\tINFO tf_policy.py:355 -- Optimizing variable <tf.Variable 'default_policy/default_model/fc_out/bias:0' shape=(2,) dtype=float32_ref>\n",
      "\u001b[2m\u001b[36m(pid=449803)\u001b[0m 2020-03-22 14:46:23,732\tINFO tf_policy.py:355 -- Optimizing variable <tf.Variable 'default_policy/value_function/fc1/kernel:0' shape=(3, 16) dtype=float32_ref>\n",
      "\u001b[2m\u001b[36m(pid=449803)\u001b[0m 2020-03-22 14:46:23,732\tINFO tf_policy.py:355 -- Optimizing variable <tf.Variable 'default_policy/value_function/fc1/bias:0' shape=(16,) dtype=float32_ref>\n",
      "\u001b[2m\u001b[36m(pid=449803)\u001b[0m 2020-03-22 14:46:23,732\tINFO tf_policy.py:355 -- Optimizing variable <tf.Variable 'default_policy/value_function/fc2/kernel:0' shape=(16, 16) dtype=float32_ref>\n",
      "\u001b[2m\u001b[36m(pid=449803)\u001b[0m 2020-03-22 14:46:23,732\tINFO tf_policy.py:355 -- Optimizing variable <tf.Variable 'default_policy/value_function/fc2/bias:0' shape=(16,) dtype=float32_ref>\n",
      "\u001b[2m\u001b[36m(pid=449803)\u001b[0m 2020-03-22 14:46:23,732\tINFO tf_policy.py:355 -- Optimizing variable <tf.Variable 'default_policy/value_function/fc_out/kernel:0' shape=(16, 1) dtype=float32_ref>\n",
      "\u001b[2m\u001b[36m(pid=449803)\u001b[0m 2020-03-22 14:46:23,732\tINFO tf_policy.py:355 -- Optimizing variable <tf.Variable 'default_policy/value_function/fc_out/bias:0' shape=(1,) dtype=float32_ref>\n",
      "\u001b[2m\u001b[36m(pid=449803)\u001b[0m 2020-03-22 14:46:23,733\tINFO multi_gpu_impl.py:146 -- Training on concatenated sample batches:\n",
      "\u001b[2m\u001b[36m(pid=449803)\u001b[0m \n",
      "\u001b[2m\u001b[36m(pid=449803)\u001b[0m { 'inputs': [ np.ndarray((200, 1), dtype=float32, min=-2.78, max=2.491, mean=-0.155),\n",
      "\u001b[2m\u001b[36m(pid=449803)\u001b[0m               np.ndarray((200,), dtype=float32, min=-3.949, max=0.473, mean=-2.145),\n",
      "\u001b[2m\u001b[36m(pid=449803)\u001b[0m               np.ndarray((200, 3), dtype=float32, min=0.0, max=0.245, mean=0.078),\n",
      "\u001b[2m\u001b[36m(pid=449803)\u001b[0m               np.ndarray((200, 1), dtype=float32, min=-2.78, max=2.491, mean=-0.159),\n",
      "\u001b[2m\u001b[36m(pid=449803)\u001b[0m               np.ndarray((200,), dtype=float32, min=-1.284, max=2.801, mean=-0.0),\n",
      "\u001b[2m\u001b[36m(pid=449803)\u001b[0m               np.ndarray((200, 2), dtype=float32, min=-0.002, max=-0.0, mean=-0.001),\n",
      "\u001b[2m\u001b[36m(pid=449803)\u001b[0m               np.ndarray((200,), dtype=float32, min=-70.862, max=-1.141, mean=-48.945),\n",
      "\u001b[2m\u001b[36m(pid=449803)\u001b[0m               np.ndarray((200,), dtype=float32, min=-0.0, max=0.0, mean=0.0)],\n",
      "\u001b[2m\u001b[36m(pid=449803)\u001b[0m   'placeholders': [ <tf.Tensor 'default_policy/action:0' shape=(?, 1) dtype=float32>,\n",
      "\u001b[2m\u001b[36m(pid=449803)\u001b[0m                     <tf.Tensor 'default_policy/prev_reward:0' shape=(?,) dtype=float32>,\n",
      "\u001b[2m\u001b[36m(pid=449803)\u001b[0m                     <tf.Tensor 'default_policy/observation:0' shape=(?, 3) dtype=float32>,\n",
      "\u001b[2m\u001b[36m(pid=449803)\u001b[0m                     <tf.Tensor 'default_policy/actions:0' shape=(?, 1) dtype=float32>,\n",
      "\u001b[2m\u001b[36m(pid=449803)\u001b[0m                     <tf.Tensor 'default_policy/advantages:0' shape=(?,) dtype=float32>,\n",
      "\u001b[2m\u001b[36m(pid=449803)\u001b[0m                     <tf.Tensor 'default_policy/behaviour_logits:0' shape=(?, 2) dtype=float32>,\n",
      "\u001b[2m\u001b[36m(pid=449803)\u001b[0m                     <tf.Tensor 'default_policy/value_targets:0' shape=(?,) dtype=float32>,\n",
      "\u001b[2m\u001b[36m(pid=449803)\u001b[0m                     <tf.Tensor 'default_policy/vf_preds:0' shape=(?,) dtype=float32>],\n",
      "\u001b[2m\u001b[36m(pid=449803)\u001b[0m   'state_inputs': []}\n",
      "\u001b[2m\u001b[36m(pid=449803)\u001b[0m \n",
      "\u001b[2m\u001b[36m(pid=449803)\u001b[0m 2020-03-22 14:46:23,733\tINFO multi_gpu_impl.py:191 -- Divided 200 rollout sequences, each of length 1, among 1 devices.\n"
     ]
    },
    {
     "name": "stdout",
     "output_type": "stream",
     "text": [
      "Result for PPO_WaveAttenuationPOEnv-v0_0:\n",
      "  custom_metrics: {}\n",
      "  date: 2020-03-22_14-46-24\n",
      "  done: true\n",
      "  episode_len_mean: 100.0\n",
      "  episode_reward_max: -214.05138113221423\n",
      "  episode_reward_mean: -216.8033691429987\n",
      "  episode_reward_min: -219.55535715378312\n",
      "  episodes_this_iter: 2\n",
      "  episodes_total: 2\n",
      "  experiment_id: ddc2e6d1eec8499bbc66fa1bb0952d04\n",
      "  hostname: p0078.ten.osc.edu\n",
      "  info:\n",
      "    grad_time_ms: 440.866\n",
      "    learner:\n",
      "      default_policy:\n",
      "        cur_kl_coeff: 0.20000000298023224\n",
      "        cur_lr: 4.999999873689376e-05\n",
      "        entropy: 1.4186301231384277\n",
      "        entropy_coeff: 0.0\n",
      "        kl: 2.3624302230018657e-06\n",
      "        policy_loss: -0.00031735561788082123\n",
      "        total_loss: 2686.63427734375\n",
      "        vf_explained_var: -5.513429641723633e-05\n",
      "        vf_loss: 2686.63427734375\n",
      "    load_time_ms: 43.268\n",
      "    num_steps_sampled: 200\n",
      "    num_steps_trained: 200\n",
      "    sample_time_ms: 8129.719\n",
      "    update_time_ms: 358.87\n",
      "  iterations_since_restore: 1\n",
      "  node_ip: 10.4.2.25\n",
      "  num_healthy_workers: 1\n",
      "  off_policy_estimator: {}\n",
      "  perf:\n",
      "    cpu_util_percent: 3.0153846153846158\n",
      "    ram_util_percent: 5.276923076923075\n",
      "  pid: 449803\n",
      "  policy_reward_mean: {}\n",
      "  sampler_perf:\n",
      "    mean_env_wait_ms: 8.762259981525478\n",
      "    mean_inference_ms: 0.9430427456376564\n",
      "    mean_processing_ms: 11.498140458443865\n",
      "  time_since_restore: 9.02060079574585\n",
      "  time_this_iter_s: 9.02060079574585\n",
      "  time_total_s: 9.02060079574585\n",
      "  timestamp: 1584902784\n",
      "  timesteps_since_restore: 200\n",
      "  timesteps_this_iter: 200\n",
      "  timesteps_total: 200\n",
      "  training_iteration: 1\n",
      "  trial_id: 634f1770\n",
      "  \n",
      "== Status ==\n",
      "Using FIFO scheduling algorithm.\n",
      "Resources requested: 0/2 CPUs, 0/0 GPUs\n",
      "Memory usage on this node: 10.6/201.2 GB\n",
      "Result logdir: /users/PYS1027/chnrhughes/ray_results/training_example\n",
      "Number of trials: 1 ({'TERMINATED': 1})\n",
      "TERMINATED trials:\n",
      " - PPO_WaveAttenuationPOEnv-v0_0:\tTERMINATED, [2 CPUs, 0 GPUs], [pid=449803], 9 s, 1 iter, 200 ts, -217 rew\n",
      "\n",
      "== Status ==\n",
      "Using FIFO scheduling algorithm.\n",
      "Resources requested: 0/2 CPUs, 0/0 GPUs\n",
      "Memory usage on this node: 10.6/201.2 GB\n",
      "Result logdir: /users/PYS1027/chnrhughes/ray_results/training_example\n",
      "Number of trials: 1 ({'TERMINATED': 1})\n",
      "TERMINATED trials:\n",
      " - PPO_WaveAttenuationPOEnv-v0_0:\tTERMINATED, [2 CPUs, 0 GPUs], [pid=449803], 9 s, 1 iter, 200 ts, -217 rew\n",
      "\n"
     ]
    }
   ],
   "source": [
    "trials = run_experiments({\n",
    "    flow_params[\"exp_tag\"]: {\n",
    "        \"run\": alg_run,\n",
    "        \"env\": gym_name,\n",
    "        \"config\": {\n",
    "            **config\n",
    "        },\n",
    "        \"checkpoint_freq\": 1,  # number of iterations between checkpoints\n",
    "        \"checkpoint_at_end\": True,  # generate a checkpoint at the end\n",
    "        \"max_failures\": 999,\n",
    "        \"stop\": {  # stopping conditions\n",
    "            \"training_iteration\": 1,  # number of iterations to stop after\n",
    "        },\n",
    "    },\n",
    "})"
   ]
  },
  {
   "cell_type": "markdown",
   "metadata": {},
   "source": [
    "### 4.5 Visualizing the results\n",
    "\n",
    "The simulation results are saved within the `ray_results/training_example` directory (we defined `training_example` at the start of this tutorial). The `ray_results` folder is by default located at your root `~/ray_results`. \n",
    "\n",
    "You can run `tensorboard --logdir=~/ray_results/training_example` (install it with `pip install tensorboard`) to visualize the different data outputted by your simulation.\n",
    "\n",
    "For more instructions about visualizing, please see `tutorial05_visualize.ipynb`. "
   ]
  },
  {
   "cell_type": "markdown",
   "metadata": {},
   "source": [
    "### 4.6 Restart from a checkpoint / Transfer learning\n",
    "\n",
    "If you wish to do transfer learning, or to resume a previous training, you will need to start the simulation from a previous checkpoint. To do that, you can add a `restore` parameter in the `run_experiments` argument, as follows:\n",
    "\n",
    "```python\n",
    "trials = run_experiments({\n",
    "    flow_params[\"exp_tag\"]: {\n",
    "        \"run\": alg_run,\n",
    "        \"env\": gym_name,\n",
    "        \"config\": {\n",
    "            **config\n",
    "        },\n",
    "        \"restore\": \"/ray_results/experiment/dir/checkpoint_50/checkpoint-50\"\n",
    "        \"checkpoint_freq\": 1,\n",
    "        \"checkpoint_at_end\": True,\n",
    "        \"max_failures\": 999,\n",
    "        \"stop\": {\n",
    "            \"training_iteration\": 1,\n",
    "        },\n",
    "    },\n",
    "})\n",
    "```\n",
    "\n",
    "The `\"restore\"` path should be such that the `[restore]/.tune_metadata` file exists.\n",
    "\n",
    "There is also a `\"resume\"` parameter that you can set to `True` if you just wish to continue the training from a previously saved checkpoint, in case you are still training on the same experiment. "
   ]
  },
  {
   "cell_type": "code",
   "execution_count": null,
   "metadata": {},
   "outputs": [],
   "source": []
  }
 ],
 "metadata": {
  "kernelspec": {
   "display_name": "Python 3",
   "language": "python",
   "name": "python3"
  },
  "language_info": {
   "codemirror_mode": {
    "name": "ipython",
    "version": 3
   },
   "file_extension": ".py",
   "mimetype": "text/x-python",
   "name": "python",
   "nbconvert_exporter": "python",
   "pygments_lexer": "ipython3",
   "version": "3.5.2"
  },
  "widgets": {
   "state": {},
   "version": "1.1.2"
  }
 },
 "nbformat": 4,
 "nbformat_minor": 1
}
