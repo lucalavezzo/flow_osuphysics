{
 "cells": [
  {
   "cell_type": "code",
   "execution_count": null,
   "metadata": {},
   "outputs": [],
   "source": [
    "exp = 'simple_training_example_ring_v1'\n",
    "dirName = \"PPO_WaveAttenuationPOEnv-v0_0_2020-03-23_12-23-23vhhlmj8e\"\n",
    "varNames = 'episode_reward_mean episode_reward_min episode_reward_max'\n",
    "fullName = \"/users/PYS1027/chnrhughes/ray_results/\" + exp + '/' + dirName + '/progress.csv ' + varNames\n",
    "\n",
    "pythonName = \"/users/PYS1027/chnrhughes/work/flowtest/flow/flow/visualize/plot_ray_results\\.py \"\n",
    "\n",
    "command = pythonName + fullName\n",
    "\n",
    "%matplotlib notebook\n",
    "# if this doesn't display anything, try with \"%matplotlib inline\" instead\n",
    "%run $command\n"
   ]
  },
  {
   "cell_type": "code",
   "execution_count": null,
   "metadata": {},
   "outputs": [],
   "source": [
    "exp = 'simple_training_example_ring_v1'\n",
    "dirName = \"PPO_WaveAttenuationPOEnv-v0_0_2020-03-24_14-07-568sx5t4lo\"\n",
    "varNames = 'episode_reward_mean episode_reward_min episode_reward_max'\n",
    "fullName = \"/users/PYS1027/chnrhughes/ray_results/\" + exp + '/' + dirName + '/progress.csv ' + varNames\n",
    "\n",
    "pythonName = \"/users/PYS1027/chnrhughes/work/flowtest/flow/flow/visualize/plot_ray_results\\.py \"\n",
    "\n",
    "command = pythonName + fullName\n",
    "\n",
    "%matplotlib notebook\n",
    "# if this doesn't display anything, try with \"%matplotlib inline\" instead\n",
    "%run $command\n"
   ]
  },
  {
   "cell_type": "code",
   "execution_count": 1,
   "metadata": {},
   "outputs": [
    {
     "name": "stdout",
     "output_type": "stream",
     "text": [
      "WARNING:tensorflow:From /users/PYS1027/chnrhughes/.local/lib/python3.5/site-packages/tensorflow/python/compat/v2_compat.py:61: disable_resource_variables (from tensorflow.python.ops.variable_scope) is deprecated and will be removed in a future version.\n",
      "Instructions for updating:\n",
      "non-resource variables are not supported in the long term\n"
     ]
    },
    {
     "name": "stderr",
     "output_type": "stream",
     "text": [
      "2020-03-24 14:16:21,772\tINFO node.py:498 -- Process STDOUT and STDERR is being redirected to /tmp/ray/session_2020-03-24_14-16-21_771987_131712/logs.\n",
      "2020-03-24 14:16:21,888\tINFO services.py:409 -- Waiting for redis server at 127.0.0.1:24921 to respond...\n",
      "2020-03-24 14:16:22,003\tINFO services.py:409 -- Waiting for redis server at 127.0.0.1:32976 to respond...\n",
      "2020-03-24 14:16:22,004\tINFO services.py:809 -- Starting Redis shard with 10.0 GB max memory.\n",
      "2020-03-24 14:16:22,025\tINFO node.py:512 -- Process STDOUT and STDERR is being redirected to /tmp/ray/session_2020-03-24_14-16-21_771987_131712/logs.\n",
      "2020-03-24 14:16:22,027\tWARNING services.py:1301 -- Warning: Capping object memory store to 20.0GB. To increase this further, specify `object_store_memory` when calling ray.init() or ray start.\n",
      "2020-03-24 14:16:22,027\tINFO services.py:1475 -- Starting the Plasma object store with 20.0 GB memory using /dev/shm.\n"
     ]
    },
    {
     "name": "stdout",
     "output_type": "stream",
     "text": [
      "WARNING:tensorflow:From /users/PYS1027/chnrhughes/.local/lib/python3.5/site-packages/ray/tune/logger.py:133: The name tf.VERSION is deprecated. Please use tf.version.VERSION instead.\n",
      "\n",
      "WARNING:tensorflow:From /users/PYS1027/chnrhughes/.local/lib/python3.5/site-packages/ray/tune/logger.py:138: The name tf.summary.FileWriter is deprecated. Please use tf.compat.v1.summary.FileWriter instead.\n",
      "\n"
     ]
    },
    {
     "name": "stderr",
     "output_type": "stream",
     "text": [
      "2020-03-24 14:16:22,159\tERROR log_sync.py:34 -- Log sync requires cluster to be setup with `ray up`.\n",
      "2020-03-24 14:16:22,174\tWARNING ppo.py:143 -- FYI: By default, the value function will not share layers with the policy model ('vf_share_layers': False).\n",
      "2020-03-24 14:16:23,472\tINFO rollout_worker.py:319 -- Creating policy evaluation worker 0 on CPU (please ignore any CUDA init errors)\n"
     ]
    },
    {
     "name": "stdout",
     "output_type": "stream",
     "text": [
      "WARNING:tensorflow:From /users/PYS1027/chnrhughes/.local/lib/python3.5/site-packages/ray/rllib/models/tf/fcnet_v1.py:48: dense (from tensorflow.python.layers.core) is deprecated and will be removed in a future version.\n",
      "Instructions for updating:\n",
      "Use keras.layers.dense instead.\n"
     ]
    },
    {
     "name": "stderr",
     "output_type": "stream",
     "text": [
      "WARNING:tensorflow:From /users/PYS1027/chnrhughes/.local/lib/python3.5/site-packages/ray/rllib/models/tf/fcnet_v1.py:48: dense (from tensorflow.python.layers.core) is deprecated and will be removed in a future version.\n",
      "Instructions for updating:\n",
      "Use keras.layers.dense instead.\n"
     ]
    },
    {
     "name": "stdout",
     "output_type": "stream",
     "text": [
      "WARNING:tensorflow:From /users/PYS1027/chnrhughes/.local/lib/python3.5/site-packages/ray/rllib/models/tf/tf_action_dist.py:138: to_float (from tensorflow.python.ops.math_ops) is deprecated and will be removed in a future version.\n",
      "Instructions for updating:\n",
      "Use `tf.cast` instead.\n"
     ]
    },
    {
     "name": "stderr",
     "output_type": "stream",
     "text": [
      "WARNING:tensorflow:From /users/PYS1027/chnrhughes/.local/lib/python3.5/site-packages/ray/rllib/models/tf/tf_action_dist.py:138: to_float (from tensorflow.python.ops.math_ops) is deprecated and will be removed in a future version.\n",
      "Instructions for updating:\n",
      "Use `tf.cast` instead.\n",
      "2020-03-24 14:16:23,937\tINFO dynamic_tf_policy.py:324 -- Initializing loss function with dummy input:\n",
      "\n",
      "{ 'action_prob': <tf.Tensor 'default_policy/action_prob:0' shape=(?,) dtype=float32>,\n",
      "  'actions': <tf.Tensor 'default_policy/actions:0' shape=(?, 1) dtype=float32>,\n",
      "  'advantages': <tf.Tensor 'default_policy/advantages:0' shape=(?,) dtype=float32>,\n",
      "  'behaviour_logits': <tf.Tensor 'default_policy/behaviour_logits:0' shape=(?, 2) dtype=float32>,\n",
      "  'dones': <tf.Tensor 'default_policy/dones:0' shape=(?,) dtype=bool>,\n",
      "  'new_obs': <tf.Tensor 'default_policy/new_obs:0' shape=(?, 3) dtype=float32>,\n",
      "  'obs': <tf.Tensor 'default_policy/observation:0' shape=(?, 3) dtype=float32>,\n",
      "  'prev_actions': <tf.Tensor 'default_policy/action:0' shape=(?, 1) dtype=float32>,\n",
      "  'prev_rewards': <tf.Tensor 'default_policy/prev_reward:0' shape=(?,) dtype=float32>,\n",
      "  'rewards': <tf.Tensor 'default_policy/rewards:0' shape=(?,) dtype=float32>,\n",
      "  'value_targets': <tf.Tensor 'default_policy/value_targets:0' shape=(?,) dtype=float32>,\n",
      "  'vf_preds': <tf.Tensor 'default_policy/vf_preds:0' shape=(?,) dtype=float32>}\n",
      "\n"
     ]
    },
    {
     "name": "stdout",
     "output_type": "stream",
     "text": [
      "WARNING:tensorflow:From /users/PYS1027/chnrhughes/.local/lib/python3.5/site-packages/tensorflow/python/ops/array_ops.py:1354: add_dispatch_support.<locals>.wrapper (from tensorflow.python.ops.array_ops) is deprecated and will be removed in a future version.\n",
      "Instructions for updating:\n",
      "Use tf.where in 2.0, which has the same broadcast rule as np.where\n"
     ]
    },
    {
     "name": "stderr",
     "output_type": "stream",
     "text": [
      "WARNING:tensorflow:From /users/PYS1027/chnrhughes/.local/lib/python3.5/site-packages/tensorflow/python/ops/array_ops.py:1354: add_dispatch_support.<locals>.wrapper (from tensorflow.python.ops.array_ops) is deprecated and will be removed in a future version.\n",
      "Instructions for updating:\n",
      "Use tf.where in 2.0, which has the same broadcast rule as np.where\n",
      "2020-03-24 14:16:24,860\tINFO rollout_worker.py:742 -- Built policy map: {'default_policy': <ray.rllib.policy.tf_policy_template.PPOTFPolicy object at 0x2b3ba8fcb588>}\n",
      "2020-03-24 14:16:24,860\tINFO rollout_worker.py:743 -- Built preprocessor map: {'default_policy': <ray.rllib.models.preprocessors.NoPreprocessor object at 0x2b3ba8fcb4a8>}\n",
      "2020-03-24 14:16:24,861\tINFO rollout_worker.py:356 -- Built filter map: {'default_policy': <ray.rllib.utils.filter.NoFilter object at 0x2b3ba8fcb2e8>}\n",
      "2020-03-24 14:16:24,865\tINFO multi_gpu_optimizer.py:93 -- LocalMultiGPUOptimizer devices ['/cpu:0']\n",
      "2020-03-24 14:16:27,329\tWARNING util.py:47 -- Install gputil for GPU system monitoring.\n"
     ]
    },
    {
     "name": "stdout",
     "output_type": "stream",
     "text": [
      "\n",
      "-----------------------\n",
      "ring length: 502\n",
      "v_max: 21.849321107077817\n",
      "-----------------------\n"
     ]
    },
    {
     "name": "stderr",
     "output_type": "stream",
     "text": [
      "2020-03-24 14:16:48,377\tINFO tf_run_builder.py:92 -- Executing TF run without tracing. To dump TF timeline traces to disk, set the TF_TIMELINE_DIR environment variable.\n"
     ]
    },
    {
     "name": "stdout",
     "output_type": "stream",
     "text": [
      "Round 0, Return: 5251.612694216791\n",
      "==== Summary of results ====\n",
      "Return:\n",
      "[20.695010806706964]\n",
      "[5251.612694216791]\n",
      "Average, std: 5251.612694216791, 0.0\n",
      "\n",
      "Speed, mean (m/s):\n",
      "[20.695010806706964]\n",
      "Average, std: 20.695010806706964, 0.0\n",
      "\n",
      "Speed, std (m/s):\n",
      "[0.06128745671066681]\n",
      "Average, std: 0.06128745671066681, 0.0\n",
      "\n",
      "Outflows (veh/hr):\n",
      "[0.0]\n",
      "Average, std: 0.0, 0.0\n",
      "Inflows (veh/hr):\n",
      "[0.0]\n",
      "Average, std: 0.0, 0.0\n",
      "Throughput efficiency (veh/hr):\n",
      "[0]\n",
      "Average, std: 0.0, 0.0\n"
     ]
    }
   ],
   "source": [
    "exp = 'simple_training_example_ring_v1'\n",
    "#dirName = \"PPO_WaveAttenuationPOEnv-v0_0_2020-03-23_12-23-23vhhlmj8e\"\n",
    "dirName = \"PPO_WaveAttenuationPOEnv-v0_0_2020-03-24_14-07-568sx5t4lo\"\n",
    "dirName = \"PPO_WaveAttenuationPOEnv-v0_0_2020-03-24_14-19-25v34z7_jo\"\n",
    "\n",
    "checkPointDir = \"/users/PYS1027/chnrhughes/ray_results/\" + exp + '/' + dirName\n",
    "pythonName = \"/users/PYS1027/chnrhughes/work/flowtest/flow/flow/visualize/visualizer_rllib\\.py \"\n",
    "\n",
    "checkPoint = ' 100 '\n",
    "checkPoint = ' 5 '\n",
    "horizon = ' --horizon 10000 '\n",
    "command = pythonName + checkPointDir +  checkPoint + horizon\n",
    "\n",
    "%matplotlib notebook\n",
    "# if this doesn't display anything, try with \"%matplotlib inline\" instead\n",
    "%run $command\n",
    "\n",
    "\n",
    "#!python ../flow/visualize/visualizer_rllib.py data/trained_ring 200 --horizon 2000"
   ]
  },
  {
   "cell_type": "code",
   "execution_count": null,
   "metadata": {},
   "outputs": [],
   "source": []
  }
 ],
 "metadata": {
  "kernelspec": {
   "display_name": "Python 3",
   "language": "python",
   "name": "python3"
  },
  "language_info": {
   "codemirror_mode": {
    "name": "ipython",
    "version": 3
   },
   "file_extension": ".py",
   "mimetype": "text/x-python",
   "name": "python",
   "nbconvert_exporter": "python",
   "pygments_lexer": "ipython3",
   "version": "3.5.2"
  }
 },
 "nbformat": 4,
 "nbformat_minor": 4
}
