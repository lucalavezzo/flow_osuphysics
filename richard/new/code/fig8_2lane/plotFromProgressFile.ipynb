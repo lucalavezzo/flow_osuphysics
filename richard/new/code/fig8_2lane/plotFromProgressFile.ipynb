{
 "cells": [
  {
   "cell_type": "code",
   "execution_count": null,
   "metadata": {},
   "outputs": [],
   "source": [
    "exp = 'multiagent_figure_eight'\n",
    "dirName = \"PPO_MultiAgentAccelEnv-v1_0_2020-03-26_11-05-465rv31sl4\"\n",
    "varNames = 'episode_reward_mean episode_reward_min episode_reward_max'\n",
    "fullName = \"/users/PYS1027/chnrhughes/ray_results/\" + exp + '/' + dirName + '/progress.csv ' + varNames\n",
    "\n",
    "pythonName = \"/users/PYS1027/chnrhughes/work/flowtest/flow/flow/visualize/plot_ray_results\\.py \"\n",
    "\n",
    "command = pythonName + fullName\n",
    "\n",
    "%matplotlib notebook\n",
    "# if this doesn't display anything, try with \"%matplotlib inline\" instead\n",
    "%run $command\n"
   ]
  },
  {
   "cell_type": "code",
   "execution_count": null,
   "metadata": {
    "scrolled": true
   },
   "outputs": [],
   "source": [
    "exp = 'multiagent_figure_eight'\n",
    "dirName = \"PPO_MultiAgentAccelEnv-v1_0_2020-03-26_11-05-465rv31sl4\"\n",
    "\n",
    "varNames = 'episode_reward_mean episode_reward_min episode_reward_max'\n",
    "fullName = \"/users/PYS1027/chnrhughes/ray_results/\" + exp + '/' + dirName + '/progress.csv ' + varNames\n",
    "\n",
    "pythonName = \"/users/PYS1027/chnrhughes/work/flowtest/flow/flow/visualize/plot_ray_results\\.py \"\n",
    "\n",
    "command = pythonName + fullName\n",
    "\n",
    "%matplotlib notebook\n",
    "# if this doesn't display anything, try with \"%matplotlib inline\" instead\n",
    "%run $command\n"
   ]
  },
  {
   "cell_type": "code",
   "execution_count": 1,
   "metadata": {},
   "outputs": [
    {
     "name": "stdout",
     "output_type": "stream",
     "text": [
      "WARNING:tensorflow:From /users/PYS1027/chnrhughes/.local/lib/python3.5/site-packages/tensorflow/python/compat/v2_compat.py:61: disable_resource_variables (from tensorflow.python.ops.variable_scope) is deprecated and will be removed in a future version.\n",
      "Instructions for updating:\n",
      "non-resource variables are not supported in the long term\n"
     ]
    },
    {
     "name": "stderr",
     "output_type": "stream",
     "text": [
      "2020-03-27 13:36:17,823\tINFO node.py:498 -- Process STDOUT and STDERR is being redirected to /tmp/ray/session_2020-03-27_13-36-17_822893_107213/logs.\n",
      "2020-03-27 13:36:18,082\tINFO services.py:409 -- Waiting for redis server at 127.0.0.1:64778 to respond...\n",
      "2020-03-27 13:36:18,323\tINFO services.py:409 -- Waiting for redis server at 127.0.0.1:16917 to respond...\n",
      "2020-03-27 13:36:18,324\tINFO services.py:809 -- Starting Redis shard with 10.0 GB max memory.\n",
      "2020-03-27 13:36:18,379\tINFO node.py:512 -- Process STDOUT and STDERR is being redirected to /tmp/ray/session_2020-03-27_13-36-17_822893_107213/logs.\n",
      "2020-03-27 13:36:18,380\tWARNING services.py:1301 -- Warning: Capping object memory store to 20.0GB. To increase this further, specify `object_store_memory` when calling ray.init() or ray start.\n",
      "2020-03-27 13:36:18,381\tINFO services.py:1475 -- Starting the Plasma object store with 20.0 GB memory using /dev/shm.\n"
     ]
    },
    {
     "name": "stdout",
     "output_type": "stream",
     "text": [
      "WARNING:tensorflow:From /users/PYS1027/chnrhughes/.local/lib/python3.5/site-packages/ray/tune/logger.py:133: The name tf.VERSION is deprecated. Please use tf.version.VERSION instead.\n",
      "\n",
      "WARNING:tensorflow:From /users/PYS1027/chnrhughes/.local/lib/python3.5/site-packages/ray/tune/logger.py:138: The name tf.summary.FileWriter is deprecated. Please use tf.compat.v1.summary.FileWriter instead.\n",
      "\n"
     ]
    },
    {
     "name": "stderr",
     "output_type": "stream",
     "text": [
      "2020-03-27 13:36:19,129\tERROR log_sync.py:34 -- Log sync requires cluster to be setup with `ray up`.\n",
      "2020-03-27 13:36:19,152\tWARNING ppo.py:143 -- FYI: By default, the value function will not share layers with the policy model ('vf_share_layers': False).\n",
      "2020-03-27 13:36:23,892\tINFO rollout_worker.py:319 -- Creating policy evaluation worker 0 on CPU (please ignore any CUDA init errors)\n"
     ]
    },
    {
     "name": "stdout",
     "output_type": "stream",
     "text": [
      "WARNING:tensorflow:From /users/PYS1027/chnrhughes/.local/lib/python3.5/site-packages/ray/rllib/models/tf/fcnet_v1.py:48: dense (from tensorflow.python.layers.core) is deprecated and will be removed in a future version.\n",
      "Instructions for updating:\n",
      "Use keras.layers.dense instead.\n"
     ]
    },
    {
     "name": "stderr",
     "output_type": "stream",
     "text": [
      "WARNING:tensorflow:From /users/PYS1027/chnrhughes/.local/lib/python3.5/site-packages/ray/rllib/models/tf/fcnet_v1.py:48: dense (from tensorflow.python.layers.core) is deprecated and will be removed in a future version.\n",
      "Instructions for updating:\n",
      "Use keras.layers.dense instead.\n"
     ]
    },
    {
     "name": "stdout",
     "output_type": "stream",
     "text": [
      "WARNING:tensorflow:From /users/PYS1027/chnrhughes/.local/lib/python3.5/site-packages/ray/rllib/models/tf/tf_action_dist.py:138: to_float (from tensorflow.python.ops.math_ops) is deprecated and will be removed in a future version.\n",
      "Instructions for updating:\n",
      "Use `tf.cast` instead.\n"
     ]
    },
    {
     "name": "stderr",
     "output_type": "stream",
     "text": [
      "WARNING:tensorflow:From /users/PYS1027/chnrhughes/.local/lib/python3.5/site-packages/ray/rllib/models/tf/tf_action_dist.py:138: to_float (from tensorflow.python.ops.math_ops) is deprecated and will be removed in a future version.\n",
      "Instructions for updating:\n",
      "Use `tf.cast` instead.\n",
      "2020-03-27 13:36:24,660\tINFO dynamic_tf_policy.py:324 -- Initializing loss function with dummy input:\n",
      "\n",
      "{ 'action_prob': <tf.Tensor 'default_policy/action_prob:0' shape=(?,) dtype=float32>,\n",
      "  'actions': <tf.Tensor 'default_policy/actions:0' shape=(?, 1) dtype=float32>,\n",
      "  'advantages': <tf.Tensor 'default_policy/advantages:0' shape=(?,) dtype=float32>,\n",
      "  'behaviour_logits': <tf.Tensor 'default_policy/behaviour_logits:0' shape=(?, 2) dtype=float32>,\n",
      "  'dones': <tf.Tensor 'default_policy/dones:0' shape=(?,) dtype=bool>,\n",
      "  'new_obs': <tf.Tensor 'default_policy/new_obs:0' shape=(?, 22) dtype=float32>,\n",
      "  'obs': <tf.Tensor 'default_policy/observation:0' shape=(?, 22) dtype=float32>,\n",
      "  'prev_actions': <tf.Tensor 'default_policy/action:0' shape=(?, 1) dtype=float32>,\n",
      "  'prev_rewards': <tf.Tensor 'default_policy/prev_reward:0' shape=(?,) dtype=float32>,\n",
      "  'rewards': <tf.Tensor 'default_policy/rewards:0' shape=(?,) dtype=float32>,\n",
      "  'value_targets': <tf.Tensor 'default_policy/value_targets:0' shape=(?,) dtype=float32>,\n",
      "  'vf_preds': <tf.Tensor 'default_policy/vf_preds:0' shape=(?,) dtype=float32>}\n",
      "\n"
     ]
    },
    {
     "name": "stdout",
     "output_type": "stream",
     "text": [
      "WARNING:tensorflow:From /users/PYS1027/chnrhughes/.local/lib/python3.5/site-packages/tensorflow/python/ops/array_ops.py:1354: add_dispatch_support.<locals>.wrapper (from tensorflow.python.ops.array_ops) is deprecated and will be removed in a future version.\n",
      "Instructions for updating:\n",
      "Use tf.where in 2.0, which has the same broadcast rule as np.where\n"
     ]
    },
    {
     "name": "stderr",
     "output_type": "stream",
     "text": [
      "WARNING:tensorflow:From /users/PYS1027/chnrhughes/.local/lib/python3.5/site-packages/tensorflow/python/ops/array_ops.py:1354: add_dispatch_support.<locals>.wrapper (from tensorflow.python.ops.array_ops) is deprecated and will be removed in a future version.\n",
      "Instructions for updating:\n",
      "Use tf.where in 2.0, which has the same broadcast rule as np.where\n",
      "2020-03-27 13:36:25,644\tINFO rollout_worker.py:742 -- Built policy map: {'default_policy': <ray.rllib.policy.tf_policy_template.PPOTFPolicy object at 0x2b147ad112b0>}\n",
      "2020-03-27 13:36:25,645\tINFO rollout_worker.py:743 -- Built preprocessor map: {'default_policy': <ray.rllib.models.preprocessors.NoPreprocessor object at 0x2b147ad111d0>}\n",
      "2020-03-27 13:36:25,645\tINFO rollout_worker.py:356 -- Built filter map: {'default_policy': <ray.rllib.utils.filter.NoFilter object at 0x2b147ad04fd0>}\n",
      "2020-03-27 13:36:25,652\tINFO multi_gpu_optimizer.py:93 -- LocalMultiGPUOptimizer devices ['/cpu:0']\n",
      "2020-03-27 13:36:28,178\tWARNING util.py:47 -- Install gputil for GPU system monitoring.\n"
     ]
    },
    {
     "name": "stdout",
     "output_type": "stream",
     "text": [
      " Retrying in 1 seconds\n"
     ]
    },
    {
     "ename": "ValueError",
     "evalue": "('Observation for a Box/MultiBinary/MultiDiscrete space should be an np.array, not a Python list.', {'adversary': array([0.00000000e+00, 6.63601460e-04, 0.00000000e+00, 8.74359560e-02,\n       0.00000000e+00, 1.74208311e-01, 0.00000000e+00, 2.60980665e-01,\n       0.00000000e+00, 3.47753020e-01, 0.00000000e+00, 4.34525374e-01,\n       0.00000000e+00, 5.21297729e-01, 0.00000000e+00, 6.08070083e-01,\n       0.00000000e+00, 6.94842438e-01, 0.00000000e+00, 7.81614792e-01,\n       0.00000000e+00, 8.68387147e-01]), 'av': array([0.00000000e+00, 6.63601460e-04, 0.00000000e+00, 8.74359560e-02,\n       0.00000000e+00, 1.74208311e-01, 0.00000000e+00, 2.60980665e-01,\n       0.00000000e+00, 3.47753020e-01, 0.00000000e+00, 4.34525374e-01,\n       0.00000000e+00, 5.21297729e-01, 0.00000000e+00, 6.08070083e-01,\n       0.00000000e+00, 6.94842438e-01, 0.00000000e+00, 7.81614792e-01,\n       0.00000000e+00, 8.68387147e-01])})",
     "output_type": "error",
     "traceback": [
      "\u001b[0;31m---------------------------------------------------------------------------\u001b[0m",
      "\u001b[0;31mAttributeError\u001b[0m                            Traceback (most recent call last)",
      "\u001b[0;32m~/.local/lib/python3.5/site-packages/ray/rllib/models/preprocessors.py\u001b[0m in \u001b[0;36mcheck_shape\u001b[0;34m(self, observation)\u001b[0m\n\u001b[1;32m     57\u001b[0m             \u001b[0;32mtry\u001b[0m\u001b[0;34m:\u001b[0m\u001b[0;34m\u001b[0m\u001b[0m\n\u001b[0;32m---> 58\u001b[0;31m                 \u001b[0;32mif\u001b[0m \u001b[0;32mnot\u001b[0m \u001b[0mself\u001b[0m\u001b[0;34m.\u001b[0m\u001b[0m_obs_space\u001b[0m\u001b[0;34m.\u001b[0m\u001b[0mcontains\u001b[0m\u001b[0;34m(\u001b[0m\u001b[0mobservation\u001b[0m\u001b[0;34m)\u001b[0m\u001b[0;34m:\u001b[0m\u001b[0;34m\u001b[0m\u001b[0m\n\u001b[0m\u001b[1;32m     59\u001b[0m                     raise ValueError(\n",
      "\u001b[0;32m~/.local/lib/python3.5/site-packages/gym/spaces/box.py\u001b[0m in \u001b[0;36mcontains\u001b[0;34m(self, x)\u001b[0m\n\u001b[1;32m    101\u001b[0m             \u001b[0mx\u001b[0m \u001b[0;34m=\u001b[0m \u001b[0mnp\u001b[0m\u001b[0;34m.\u001b[0m\u001b[0marray\u001b[0m\u001b[0;34m(\u001b[0m\u001b[0mx\u001b[0m\u001b[0;34m)\u001b[0m  \u001b[0;31m# Promote list to array for contains check\u001b[0m\u001b[0;34m\u001b[0m\u001b[0m\n\u001b[0;32m--> 102\u001b[0;31m         \u001b[0;32mreturn\u001b[0m \u001b[0mx\u001b[0m\u001b[0;34m.\u001b[0m\u001b[0mshape\u001b[0m \u001b[0;34m==\u001b[0m \u001b[0mself\u001b[0m\u001b[0;34m.\u001b[0m\u001b[0mshape\u001b[0m \u001b[0;32mand\u001b[0m \u001b[0mnp\u001b[0m\u001b[0;34m.\u001b[0m\u001b[0mall\u001b[0m\u001b[0;34m(\u001b[0m\u001b[0mx\u001b[0m \u001b[0;34m>=\u001b[0m \u001b[0mself\u001b[0m\u001b[0;34m.\u001b[0m\u001b[0mlow\u001b[0m\u001b[0;34m)\u001b[0m \u001b[0;32mand\u001b[0m \u001b[0mnp\u001b[0m\u001b[0;34m.\u001b[0m\u001b[0mall\u001b[0m\u001b[0;34m(\u001b[0m\u001b[0mx\u001b[0m \u001b[0;34m<=\u001b[0m \u001b[0mself\u001b[0m\u001b[0;34m.\u001b[0m\u001b[0mhigh\u001b[0m\u001b[0;34m)\u001b[0m\u001b[0;34m\u001b[0m\u001b[0m\n\u001b[0m\u001b[1;32m    103\u001b[0m \u001b[0;34m\u001b[0m\u001b[0m\n",
      "\u001b[0;31mAttributeError\u001b[0m: 'dict' object has no attribute 'shape'",
      "\nDuring handling of the above exception, another exception occurred:\n",
      "\u001b[0;31mValueError\u001b[0m                                Traceback (most recent call last)",
      "\u001b[0;32m~/work/flowtest/flow/flow/visualize/visualizer_rllib.py\u001b[0m in \u001b[0;36m<module>\u001b[0;34m\u001b[0m\n\u001b[1;32m    380\u001b[0m     \u001b[0margs\u001b[0m \u001b[0;34m=\u001b[0m \u001b[0mparser\u001b[0m\u001b[0;34m.\u001b[0m\u001b[0mparse_args\u001b[0m\u001b[0;34m(\u001b[0m\u001b[0;34m)\u001b[0m\u001b[0;34m\u001b[0m\u001b[0m\n\u001b[1;32m    381\u001b[0m     \u001b[0mray\u001b[0m\u001b[0;34m.\u001b[0m\u001b[0minit\u001b[0m\u001b[0;34m(\u001b[0m\u001b[0mnum_cpus\u001b[0m\u001b[0;34m=\u001b[0m\u001b[0;36m1\u001b[0m\u001b[0;34m)\u001b[0m\u001b[0;34m\u001b[0m\u001b[0m\n\u001b[0;32m--> 382\u001b[0;31m     \u001b[0mvisualizer_rllib\u001b[0m\u001b[0;34m(\u001b[0m\u001b[0margs\u001b[0m\u001b[0;34m)\u001b[0m\u001b[0;34m\u001b[0m\u001b[0m\n\u001b[0m",
      "\u001b[0;32m~/work/flowtest/flow/flow/visualize/visualizer_rllib.py\u001b[0m in \u001b[0;36mvisualizer_rllib\u001b[0;34m(args)\u001b[0m\n\u001b[1;32m    223\u001b[0m                             state[agent_id], policy_id=policy_map_fn(agent_id))\n\u001b[1;32m    224\u001b[0m             \u001b[0;32melse\u001b[0m\u001b[0;34m:\u001b[0m\u001b[0;34m\u001b[0m\u001b[0m\n\u001b[0;32m--> 225\u001b[0;31m                 \u001b[0maction\u001b[0m \u001b[0;34m=\u001b[0m \u001b[0magent\u001b[0m\u001b[0;34m.\u001b[0m\u001b[0mcompute_action\u001b[0m\u001b[0;34m(\u001b[0m\u001b[0mstate\u001b[0m\u001b[0;34m)\u001b[0m\u001b[0;34m\u001b[0m\u001b[0m\n\u001b[0m\u001b[1;32m    226\u001b[0m             \u001b[0mstate\u001b[0m\u001b[0;34m,\u001b[0m \u001b[0mreward\u001b[0m\u001b[0;34m,\u001b[0m \u001b[0mdone\u001b[0m\u001b[0;34m,\u001b[0m \u001b[0m_\u001b[0m \u001b[0;34m=\u001b[0m \u001b[0menv\u001b[0m\u001b[0;34m.\u001b[0m\u001b[0mstep\u001b[0m\u001b[0;34m(\u001b[0m\u001b[0maction\u001b[0m\u001b[0;34m)\u001b[0m\u001b[0;34m\u001b[0m\u001b[0m\n\u001b[1;32m    227\u001b[0m             \u001b[0;32mif\u001b[0m \u001b[0mmultiagent\u001b[0m\u001b[0;34m:\u001b[0m\u001b[0;34m\u001b[0m\u001b[0m\n",
      "\u001b[0;32m~/.local/lib/python3.5/site-packages/ray/rllib/agents/trainer.py\u001b[0m in \u001b[0;36mcompute_action\u001b[0;34m(self, observation, state, prev_action, prev_reward, info, policy_id, full_fetch)\u001b[0m\n\u001b[1;32m    561\u001b[0m             \u001b[0mstate\u001b[0m \u001b[0;34m=\u001b[0m \u001b[0;34m[\u001b[0m\u001b[0;34m]\u001b[0m\u001b[0;34m\u001b[0m\u001b[0m\n\u001b[1;32m    562\u001b[0m         preprocessed = self.workers.local_worker().preprocessors[\n\u001b[0;32m--> 563\u001b[0;31m             policy_id].transform(observation)\n\u001b[0m\u001b[1;32m    564\u001b[0m         filtered_obs = self.workers.local_worker().filters[policy_id](\n\u001b[1;32m    565\u001b[0m             preprocessed, update=False)\n",
      "\u001b[0;32m~/.local/lib/python3.5/site-packages/ray/rllib/models/preprocessors.py\u001b[0m in \u001b[0;36mtransform\u001b[0;34m(self, observation)\u001b[0m\n\u001b[1;32m    164\u001b[0m     \u001b[0;34m@\u001b[0m\u001b[0moverride\u001b[0m\u001b[0;34m(\u001b[0m\u001b[0mPreprocessor\u001b[0m\u001b[0;34m)\u001b[0m\u001b[0;34m\u001b[0m\u001b[0m\n\u001b[1;32m    165\u001b[0m     \u001b[0;32mdef\u001b[0m \u001b[0mtransform\u001b[0m\u001b[0;34m(\u001b[0m\u001b[0mself\u001b[0m\u001b[0;34m,\u001b[0m \u001b[0mobservation\u001b[0m\u001b[0;34m)\u001b[0m\u001b[0;34m:\u001b[0m\u001b[0;34m\u001b[0m\u001b[0m\n\u001b[0;32m--> 166\u001b[0;31m         \u001b[0mself\u001b[0m\u001b[0;34m.\u001b[0m\u001b[0mcheck_shape\u001b[0m\u001b[0;34m(\u001b[0m\u001b[0mobservation\u001b[0m\u001b[0;34m)\u001b[0m\u001b[0;34m\u001b[0m\u001b[0m\n\u001b[0m\u001b[1;32m    167\u001b[0m         \u001b[0;32mreturn\u001b[0m \u001b[0mobservation\u001b[0m\u001b[0;34m\u001b[0m\u001b[0m\n\u001b[1;32m    168\u001b[0m \u001b[0;34m\u001b[0m\u001b[0m\n",
      "\u001b[0;32m~/.local/lib/python3.5/site-packages/ray/rllib/models/preprocessors.py\u001b[0m in \u001b[0;36mcheck_shape\u001b[0;34m(self, observation)\u001b[0m\n\u001b[1;32m     63\u001b[0m                 raise ValueError(\n\u001b[1;32m     64\u001b[0m                     \u001b[0;34m\"Observation for a Box/MultiBinary/MultiDiscrete space \"\u001b[0m\u001b[0;34m\u001b[0m\u001b[0m\n\u001b[0;32m---> 65\u001b[0;31m                     \"should be an np.array, not a Python list.\", observation)\n\u001b[0m\u001b[1;32m     66\u001b[0m         \u001b[0mself\u001b[0m\u001b[0;34m.\u001b[0m\u001b[0m_i\u001b[0m \u001b[0;34m+=\u001b[0m \u001b[0;36m1\u001b[0m\u001b[0;34m\u001b[0m\u001b[0m\n\u001b[1;32m     67\u001b[0m \u001b[0;34m\u001b[0m\u001b[0m\n",
      "\u001b[0;31mValueError\u001b[0m: ('Observation for a Box/MultiBinary/MultiDiscrete space should be an np.array, not a Python list.', {'adversary': array([0.00000000e+00, 6.63601460e-04, 0.00000000e+00, 8.74359560e-02,\n       0.00000000e+00, 1.74208311e-01, 0.00000000e+00, 2.60980665e-01,\n       0.00000000e+00, 3.47753020e-01, 0.00000000e+00, 4.34525374e-01,\n       0.00000000e+00, 5.21297729e-01, 0.00000000e+00, 6.08070083e-01,\n       0.00000000e+00, 6.94842438e-01, 0.00000000e+00, 7.81614792e-01,\n       0.00000000e+00, 8.68387147e-01]), 'av': array([0.00000000e+00, 6.63601460e-04, 0.00000000e+00, 8.74359560e-02,\n       0.00000000e+00, 1.74208311e-01, 0.00000000e+00, 2.60980665e-01,\n       0.00000000e+00, 3.47753020e-01, 0.00000000e+00, 4.34525374e-01,\n       0.00000000e+00, 5.21297729e-01, 0.00000000e+00, 6.08070083e-01,\n       0.00000000e+00, 6.94842438e-01, 0.00000000e+00, 7.81614792e-01,\n       0.00000000e+00, 8.68387147e-01])})"
     ]
    }
   ],
   "source": [
    "exp = 'multiagent_figure_eight'\n",
    "dirName = \"PPO_MultiAgentAccelEnv-v1_0_2020-03-26_11-05-465rv31sl4\"\n",
    "\n",
    "checkPointDir = \"/users/PYS1027/chnrhughes/ray_results/\" + exp + '/' + dirName\n",
    "pythonName = \"/users/PYS1027/chnrhughes/work/flowtest/flow/flow/visualize/visualizer_rllib\\.py \"\n",
    "\n",
    "checkPoint = ' 100 '\n",
    "checkPoint = ' 30 '\n",
    "horizon = ' --horizon 1000 '\n",
    "command = pythonName + checkPointDir +  checkPoint + horizon\n",
    "\n",
    "%matplotlib notebook\n",
    "# if this doesn't display anything, try with \"%matplotlib inline\" instead\n",
    "%run $command\n",
    "\n",
    "\n",
    "#!python ../flow/visualize/visualizer_rllib.py data/trained_ring 200 --horizon 2000"
   ]
  },
  {
   "cell_type": "code",
   "execution_count": null,
   "metadata": {},
   "outputs": [],
   "source": []
  }
 ],
 "metadata": {
  "kernelspec": {
   "display_name": "Python 3",
   "language": "python",
   "name": "python3"
  },
  "language_info": {
   "codemirror_mode": {
    "name": "ipython",
    "version": 3
   },
   "file_extension": ".py",
   "mimetype": "text/x-python",
   "name": "python",
   "nbconvert_exporter": "python",
   "pygments_lexer": "ipython3",
   "version": "3.5.2"
  }
 },
 "nbformat": 4,
 "nbformat_minor": 4
}
