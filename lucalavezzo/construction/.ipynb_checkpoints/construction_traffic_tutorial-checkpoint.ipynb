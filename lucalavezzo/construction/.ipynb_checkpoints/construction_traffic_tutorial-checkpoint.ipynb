{
 "cells": [
  {
   "cell_type": "markdown",
   "metadata": {},
   "source": [
    "# Construction Zone Experiment\n",
    "\n",
    "This tutorial walks you through the process of setting up a SUMO simulation in the Flow environment and the training of RL agents. Other tutorials work through certain parts of building an experiment, but this tutorial aims to go into further depth into some of details and hopes to more concrete examples.\n",
    "\n",
    "### The experiment\n",
    "The experiment consists of a highway with an inflow of human vehicles with multiple lanes, which encounters a 'contruction zone' where the lanes reduce to just one. The RL agents, looping over a portion of the highway along the construction zone, will be trained to control the multiple lanes of human vehicles in order to improve the mean speed of the human vehicles through this obstacle - and hence incease the rate of flow.\n",
    "\n",
    "\n",
    "<img src=\"img/experiment.jpg\">\n",
    "\n",
    "<center>**Figure 1.** The experiment. </center>\n",
    "\n",
    "The remainder of this tutorial is organized as follows:\n",
    "\n",
    "* Section 1 does XXX.\n",
    "* Section 2 does YYY.\n",
    "* Section 3 does ZZZ."
   ]
  },
  {
   "cell_type": "markdown",
   "metadata": {},
   "source": [
    "## 1. Setup\n",
    "\n",
    "Design the network (e.g. see tutorial for Netedit).\n",
    "I tend to relabel the edge names for easier access in the script. Check all connections are established when swithching the number of lanes, as shown in Fig.2.\n",
    "\n",
    "<img src=\"img/netedit.png\">\n",
    "\n",
    "<center>**Figure 2.** The network in Netedit. </center>"
   ]
  },
  {
   "cell_type": "markdown",
   "metadata": {},
   "source": [
    "## 2. The Simulation\n",
    "\n",
    "Before training the RL agents, we should test the simulation of the human agents on the network you designed. We can add the RL agents with human controllers to test whether the parts that we don't intend to control in the training work as well (e.g. we can start assigning the RL agents their routes and testing them, since we don't intend to control those in the training).\n",
    "\n",
    "\n",
    "### 2.1 Initializing Vehicles: Controllers\n",
    "\n",
    "Before adding them to the network, each class of vehicles and their parameters need to be defined.\n",
    "\n",
    "Here we add a class of RL vehicles and a class of human vehicles, the __controllers__ regulate:\n",
    "- acceleration\n",
    "- lane chanigng\n",
    "- the routes that the vehicles will take\n",
    "- how they will follow other cars\n",
    "\n",
    "Flow provides some contorllers in flow/flow/controllers/, which we will use and modify. Tweak these to obtain whichever behavior you want from the vehicles.In the training, we will replace the controller of the RL vehicle with the trainable environment, which will act as the controller for the RL agent.\n",
    "\n",
    "\n"
   ]
  },
  {
   "cell_type": "code",
   "execution_count": 7,
   "metadata": {},
   "outputs": [],
   "source": [
    "from constructionEnv_simplified import myEnv\n",
    "from experiment_construction import Experiment\n",
    "from flow.networks import Network\n",
    "from flow.core.params import VehicleParams\n",
    "from flow.core.params import NetParams\n",
    "from flow.core.params import InitialConfig\n",
    "from flow.core.params import EnvParams\n",
    "from flow.controllers import IDMController, ContinuousRouter\n",
    "from flow.controllers import SimLaneChangeController\n",
    "from flow.core.params import SumoCarFollowingParams\n",
    "from constructionRouter import ConstructionRouter\n",
    "from flow.core.params import SumoLaneChangeParams\n",
    "from flow.core.params import SumoParams\n",
    "\n",
    "HORIZON = 5000\n",
    "env_params = EnvParams( horizon=HORIZON,\n",
    "        warmup_steps=1000)\n",
    "\n",
    "#add vehicle classes\n",
    "vehicles = VehicleParams()\n",
    "vehicles.add(\"rl\",\n",
    "             acceleration_controller=(IDMController, {}),\n",
    "             lane_change_controller=(SimLaneChangeController, {}),\n",
    "             routing_controller=(ContinuousRouter, {}),     #To loop around continuously\n",
    "             car_following_params=SumoCarFollowingParams(\n",
    "                 speed_mode=\"obey_safe_speed\",  \n",
    "             ),\n",
    "             num_vehicles=0\n",
    "             )\n",
    "vehicles.add(\"human\",\n",
    "             acceleration_controller=(IDMController, {}),\n",
    "             lane_change_controller=(SimLaneChangeController, {}),\n",
    "             car_following_params=SumoCarFollowingParams(\n",
    "                 speed_mode=25\n",
    "             ),\n",
    "             lane_change_params = SumoLaneChangeParams(lane_change_mode=1621),\n",
    "             num_vehicles=0)\n",
    "\n",
    "# specify the edges vehicles can originate on\n",
    "initial_config = InitialConfig(\n",
    "    edges_distribution=[\"edge4\"]\n",
    ")\n",
    "    \n",
    "# specify the routes for vehicles in the network\n",
    "class Network(Network):\n",
    "\n",
    "    def specify_routes(self, net_params):\n",
    "\n",
    "        #routes of the vehicles chosen by their initial edge\n",
    "        return {\n",
    "            \n",
    "                #human cars originate at highway on the left, disappear after edge 6 after the construction zone\n",
    "                \"edge1\": [\"edge1\",\"edge2\",\"edge3\",\"edge4\",\"edge5\",\"edge6\"],\n",
    "            \n",
    "                #RL agents loop around their track\n",
    "                \"edge4\": [\"edge4\",\"edge5\",\"edge10\",\"edge11\",\"edge12\",\"edge3\",\"edge4\"],\n",
    "            \n",
    "                }"
   ]
  },
  {
   "cell_type": "markdown",
   "metadata": {},
   "source": [
    "### 2.2 Routes\n",
    "Based on the edge where they spawn, we define __routes__ in specify_routes that they will follow as per their routing controllers.\n",
    "\n",
    "The ContinuousRouter controller chosen requires that the route specified forms a loop, and it will guide vehicles around it until the end of the simulation.\n",
    "\n",
    "Since we want the human cars to disappear at the end of the highway (not loop around), we don't give them the ContnuousRouter controller. Thus they will follow the route as specified at their original edge, and disappear once they complete it."
   ]
  },
  {
   "cell_type": "markdown",
   "metadata": {},
   "source": [
    "### 2.3 Modifying Controllers\n",
    "It may become desirable to change a controller. For example, say we want a class of vehicles to change their routes from the one that was assigned to them at the spawn. We could achieve this by changing the route when they reach a certain edge as shown:"
   ]
  },
  {
   "cell_type": "code",
   "execution_count": 8,
   "metadata": {},
   "outputs": [],
   "source": [
    "from flow.controllers.base_routing_controller import BaseRouter\n",
    "from flow.controllers.routing_controllers import ContinuousRouter\n",
    "\n",
    "\n",
    "class ConstructionRouter(ContinuousRouter):\n",
    "\n",
    "    def choose_route(self, env):\n",
    "\n",
    "        edge = env.k.vehicle.get_edge(self.veh_id)\n",
    "\n",
    "        #once you reach the construction zone, change the route to the \"edge4\" route \n",
    "        #in specify_routes function of the network class\n",
    "        if edge == \"edge4\":\n",
    "            new_route = env.available_routes[edge][0][0]\n",
    "        else:\n",
    "            new_route = super().choose_route(env)\n",
    "\n",
    "        return new_route"
   ]
  },
  {
   "cell_type": "markdown",
   "metadata": {},
   "source": [
    "### 2.4 Adding Vehicles to the Network\n",
    "\n",
    "There are two ways to add vehicles to the network:\n",
    "1. Determine vehicles at the starting configuration of the simulation (num_vehicles in the class, InitialConfig)\n",
    "2. Spawn new vehicles at each time step using Inflows\n",
    "\n",
    "Since we want to have human vehicles continuously coming down the highway and through the construction, we add an inflow of human vehicles from the left edge.<br>\n",
    "RL agents are spawned in a fixed number using num_vehicles in their class, and the InitialConfig specifies which edge they spawn on."
   ]
  },
  {
   "cell_type": "code",
   "execution_count": 9,
   "metadata": {},
   "outputs": [],
   "source": [
    "from flow.core.params import InFlows\n",
    "\n",
    "inflow = InFlows()\n",
    "inflow.add(veh_type=\"human\",\n",
    "           edge=\"edge1\",\n",
    "           vehs_per_hour=2000,\n",
    "            depart_lane=\"random\",\n",
    "            depart_speed=\"random\",\n",
    "            color=\"white\")"
   ]
  },
  {
   "cell_type": "markdown",
   "metadata": {},
   "source": [
    "### 2.3 Run the Simulation\n",
    "\n",
    "Finally, we can put everything together to see whether the simulation works.<br>\n",
    "Again: we are not training anything, the RL agents are still being controlled with 'human' controllers, but this will make sure that the siumlation works properly to then start working on the training."
   ]
  },
  {
   "cell_type": "code",
   "execution_count": 10,
   "metadata": {},
   "outputs": [
    {
     "ename": "FileNotFoundError",
     "evalue": "[Errno 2] No such file or directory: 'construction.net.xml'",
     "output_type": "error",
     "traceback": [
      "\u001b[0;31m---------------------------------------------------------------------------\u001b[0m",
      "\u001b[0;31mFileNotFoundError\u001b[0m                         Traceback (most recent call last)",
      "\u001b[0;32m<ipython-input-10-15f00e3c48ed>\u001b[0m in \u001b[0;36m<module>\u001b[0;34m\u001b[0m\n\u001b[1;32m     23\u001b[0m \u001b[0;34m\u001b[0m\u001b[0m\n\u001b[1;32m     24\u001b[0m \u001b[0;31m# number of time steps\u001b[0m\u001b[0;34m\u001b[0m\u001b[0;34m\u001b[0m\u001b[0;34m\u001b[0m\u001b[0m\n\u001b[0;32m---> 25\u001b[0;31m \u001b[0mexp\u001b[0m \u001b[0;34m=\u001b[0m \u001b[0mExperiment\u001b[0m\u001b[0;34m(\u001b[0m\u001b[0mflow_params\u001b[0m\u001b[0;34m)\u001b[0m\u001b[0;34m\u001b[0m\u001b[0;34m\u001b[0m\u001b[0m\n\u001b[0m\u001b[1;32m     26\u001b[0m \u001b[0;34m\u001b[0m\u001b[0m\n\u001b[1;32m     27\u001b[0m \u001b[0;31m# run the sumo simulation\u001b[0m\u001b[0;34m\u001b[0m\u001b[0;34m\u001b[0m\u001b[0;34m\u001b[0m\u001b[0m\n",
      "\u001b[0;32m/mnt/c/Users/llave/Documents/GitHub/flow_osuphysics/lucalavezzo/construction/experiment_construction.py\u001b[0m in \u001b[0;36m__init__\u001b[0;34m(self, flow_params, custom_callables)\u001b[0m\n\u001b[1;32m     79\u001b[0m \u001b[0;34m\u001b[0m\u001b[0m\n\u001b[1;32m     80\u001b[0m         \u001b[0;31m# Create the environment.\u001b[0m\u001b[0;34m\u001b[0m\u001b[0;34m\u001b[0m\u001b[0;34m\u001b[0m\u001b[0m\n\u001b[0;32m---> 81\u001b[0;31m         \u001b[0mself\u001b[0m\u001b[0;34m.\u001b[0m\u001b[0menv\u001b[0m \u001b[0;34m=\u001b[0m \u001b[0mcreate_env\u001b[0m\u001b[0;34m(\u001b[0m\u001b[0;34m)\u001b[0m\u001b[0;34m\u001b[0m\u001b[0;34m\u001b[0m\u001b[0m\n\u001b[0m\u001b[1;32m     82\u001b[0m \u001b[0;34m\u001b[0m\u001b[0m\n\u001b[1;32m     83\u001b[0m         logging.info(\" Starting experiment {} at {}\".format(\n",
      "\u001b[0;32m/mnt/c/Users/llave/Documents/GitHub/flow/flow/utils/registry.py\u001b[0m in \u001b[0;36mcreate_env\u001b[0;34m(*_)\u001b[0m\n\u001b[1;32m    128\u001b[0m             })\n\u001b[1;32m    129\u001b[0m \u001b[0;34m\u001b[0m\u001b[0m\n\u001b[0;32m--> 130\u001b[0;31m         \u001b[0;32mreturn\u001b[0m \u001b[0mgym\u001b[0m\u001b[0;34m.\u001b[0m\u001b[0menvs\u001b[0m\u001b[0;34m.\u001b[0m\u001b[0mmake\u001b[0m\u001b[0;34m(\u001b[0m\u001b[0menv_name\u001b[0m\u001b[0;34m)\u001b[0m\u001b[0;34m\u001b[0m\u001b[0;34m\u001b[0m\u001b[0m\n\u001b[0m\u001b[1;32m    131\u001b[0m \u001b[0;34m\u001b[0m\u001b[0m\n\u001b[1;32m    132\u001b[0m     \u001b[0;32mreturn\u001b[0m \u001b[0mcreate_env\u001b[0m\u001b[0;34m,\u001b[0m \u001b[0menv_name\u001b[0m\u001b[0;34m\u001b[0m\u001b[0;34m\u001b[0m\u001b[0m\n",
      "\u001b[0;32m~/.local/lib/python3.6/site-packages/gym/envs/registration.py\u001b[0m in \u001b[0;36mmake\u001b[0;34m(id, **kwargs)\u001b[0m\n\u001b[1;32m    154\u001b[0m \u001b[0;34m\u001b[0m\u001b[0m\n\u001b[1;32m    155\u001b[0m \u001b[0;32mdef\u001b[0m \u001b[0mmake\u001b[0m\u001b[0;34m(\u001b[0m\u001b[0mid\u001b[0m\u001b[0;34m,\u001b[0m \u001b[0;34m**\u001b[0m\u001b[0mkwargs\u001b[0m\u001b[0;34m)\u001b[0m\u001b[0;34m:\u001b[0m\u001b[0;34m\u001b[0m\u001b[0;34m\u001b[0m\u001b[0m\n\u001b[0;32m--> 156\u001b[0;31m     \u001b[0;32mreturn\u001b[0m \u001b[0mregistry\u001b[0m\u001b[0;34m.\u001b[0m\u001b[0mmake\u001b[0m\u001b[0;34m(\u001b[0m\u001b[0mid\u001b[0m\u001b[0;34m,\u001b[0m \u001b[0;34m**\u001b[0m\u001b[0mkwargs\u001b[0m\u001b[0;34m)\u001b[0m\u001b[0;34m\u001b[0m\u001b[0;34m\u001b[0m\u001b[0m\n\u001b[0m\u001b[1;32m    157\u001b[0m \u001b[0;34m\u001b[0m\u001b[0m\n\u001b[1;32m    158\u001b[0m \u001b[0;32mdef\u001b[0m \u001b[0mspec\u001b[0m\u001b[0;34m(\u001b[0m\u001b[0mid\u001b[0m\u001b[0;34m)\u001b[0m\u001b[0;34m:\u001b[0m\u001b[0;34m\u001b[0m\u001b[0;34m\u001b[0m\u001b[0m\n",
      "\u001b[0;32m~/.local/lib/python3.6/site-packages/gym/envs/registration.py\u001b[0m in \u001b[0;36mmake\u001b[0;34m(self, path, **kwargs)\u001b[0m\n\u001b[1;32m     99\u001b[0m             \u001b[0mlogger\u001b[0m\u001b[0;34m.\u001b[0m\u001b[0minfo\u001b[0m\u001b[0;34m(\u001b[0m\u001b[0;34m'Making new env: %s'\u001b[0m\u001b[0;34m,\u001b[0m \u001b[0mpath\u001b[0m\u001b[0;34m)\u001b[0m\u001b[0;34m\u001b[0m\u001b[0;34m\u001b[0m\u001b[0m\n\u001b[1;32m    100\u001b[0m         \u001b[0mspec\u001b[0m \u001b[0;34m=\u001b[0m \u001b[0mself\u001b[0m\u001b[0;34m.\u001b[0m\u001b[0mspec\u001b[0m\u001b[0;34m(\u001b[0m\u001b[0mpath\u001b[0m\u001b[0;34m)\u001b[0m\u001b[0;34m\u001b[0m\u001b[0;34m\u001b[0m\u001b[0m\n\u001b[0;32m--> 101\u001b[0;31m         \u001b[0menv\u001b[0m \u001b[0;34m=\u001b[0m \u001b[0mspec\u001b[0m\u001b[0;34m.\u001b[0m\u001b[0mmake\u001b[0m\u001b[0;34m(\u001b[0m\u001b[0;34m**\u001b[0m\u001b[0mkwargs\u001b[0m\u001b[0;34m)\u001b[0m\u001b[0;34m\u001b[0m\u001b[0;34m\u001b[0m\u001b[0m\n\u001b[0m\u001b[1;32m    102\u001b[0m         \u001b[0;31m# We used to have people override _reset/_step rather than\u001b[0m\u001b[0;34m\u001b[0m\u001b[0;34m\u001b[0m\u001b[0;34m\u001b[0m\u001b[0m\n\u001b[1;32m    103\u001b[0m         \u001b[0;31m# reset/step. Set _gym_disable_underscore_compat = True on\u001b[0m\u001b[0;34m\u001b[0m\u001b[0;34m\u001b[0m\u001b[0;34m\u001b[0m\u001b[0m\n",
      "\u001b[0;32m~/.local/lib/python3.6/site-packages/gym/envs/registration.py\u001b[0m in \u001b[0;36mmake\u001b[0;34m(self, **kwargs)\u001b[0m\n\u001b[1;32m     71\u001b[0m         \u001b[0;32melse\u001b[0m\u001b[0;34m:\u001b[0m\u001b[0;34m\u001b[0m\u001b[0;34m\u001b[0m\u001b[0m\n\u001b[1;32m     72\u001b[0m             \u001b[0mcls\u001b[0m \u001b[0;34m=\u001b[0m \u001b[0mload\u001b[0m\u001b[0;34m(\u001b[0m\u001b[0mself\u001b[0m\u001b[0;34m.\u001b[0m\u001b[0mentry_point\u001b[0m\u001b[0;34m)\u001b[0m\u001b[0;34m\u001b[0m\u001b[0;34m\u001b[0m\u001b[0m\n\u001b[0;32m---> 73\u001b[0;31m             \u001b[0menv\u001b[0m \u001b[0;34m=\u001b[0m \u001b[0mcls\u001b[0m\u001b[0;34m(\u001b[0m\u001b[0;34m**\u001b[0m\u001b[0m_kwargs\u001b[0m\u001b[0;34m)\u001b[0m\u001b[0;34m\u001b[0m\u001b[0;34m\u001b[0m\u001b[0m\n\u001b[0m\u001b[1;32m     74\u001b[0m \u001b[0;34m\u001b[0m\u001b[0m\n\u001b[1;32m     75\u001b[0m         \u001b[0;31m# Make the enviroment aware of which spec it came from.\u001b[0m\u001b[0;34m\u001b[0m\u001b[0;34m\u001b[0m\u001b[0;34m\u001b[0m\u001b[0m\n",
      "\u001b[0;32m/mnt/c/Users/llave/Documents/GitHub/flow/flow/envs/base.py\u001b[0m in \u001b[0;36m__init__\u001b[0;34m(self, env_params, sim_params, network, simulator, scenario)\u001b[0m\n\u001b[1;32m    161\u001b[0m         \u001b[0;31m# use the network class's network parameters to generate the necessary\u001b[0m\u001b[0;34m\u001b[0m\u001b[0;34m\u001b[0m\u001b[0;34m\u001b[0m\u001b[0m\n\u001b[1;32m    162\u001b[0m         \u001b[0;31m# network components within the network kernel\u001b[0m\u001b[0;34m\u001b[0m\u001b[0;34m\u001b[0m\u001b[0;34m\u001b[0m\u001b[0m\n\u001b[0;32m--> 163\u001b[0;31m         \u001b[0mself\u001b[0m\u001b[0;34m.\u001b[0m\u001b[0mk\u001b[0m\u001b[0;34m.\u001b[0m\u001b[0mnetwork\u001b[0m\u001b[0;34m.\u001b[0m\u001b[0mgenerate_network\u001b[0m\u001b[0;34m(\u001b[0m\u001b[0mself\u001b[0m\u001b[0;34m.\u001b[0m\u001b[0mnetwork\u001b[0m\u001b[0;34m)\u001b[0m\u001b[0;34m\u001b[0m\u001b[0;34m\u001b[0m\u001b[0m\n\u001b[0m\u001b[1;32m    164\u001b[0m \u001b[0;34m\u001b[0m\u001b[0m\n\u001b[1;32m    165\u001b[0m         \u001b[0;31m# initial the vehicles kernel using the VehicleParams object\u001b[0m\u001b[0;34m\u001b[0m\u001b[0;34m\u001b[0m\u001b[0;34m\u001b[0m\u001b[0m\n",
      "\u001b[0;32m/mnt/c/Users/llave/Documents/GitHub/flow/flow/core/kernel/network/traci.py\u001b[0m in \u001b[0;36mgenerate_network\u001b[0;34m(self, network)\u001b[0m\n\u001b[1;32m    122\u001b[0m         \u001b[0;32mif\u001b[0m \u001b[0mself\u001b[0m\u001b[0;34m.\u001b[0m\u001b[0mnetwork\u001b[0m\u001b[0;34m.\u001b[0m\u001b[0mnet_params\u001b[0m\u001b[0;34m.\u001b[0m\u001b[0mtemplate\u001b[0m \u001b[0;32mis\u001b[0m \u001b[0;32mnot\u001b[0m \u001b[0;32mNone\u001b[0m\u001b[0;34m:\u001b[0m\u001b[0;34m\u001b[0m\u001b[0;34m\u001b[0m\u001b[0m\n\u001b[1;32m    123\u001b[0m             self._edges, self._connections = self.generate_net_from_template(\n\u001b[0;32m--> 124\u001b[0;31m                 self.network.net_params)\n\u001b[0m\u001b[1;32m    125\u001b[0m         \u001b[0;32melif\u001b[0m \u001b[0mself\u001b[0m\u001b[0;34m.\u001b[0m\u001b[0mnetwork\u001b[0m\u001b[0;34m.\u001b[0m\u001b[0mnet_params\u001b[0m\u001b[0;34m.\u001b[0m\u001b[0mosm_path\u001b[0m \u001b[0;32mis\u001b[0m \u001b[0;32mnot\u001b[0m \u001b[0;32mNone\u001b[0m\u001b[0;34m:\u001b[0m\u001b[0;34m\u001b[0m\u001b[0;34m\u001b[0m\u001b[0m\n\u001b[1;32m    126\u001b[0m             self._edges, self._connections = self.generate_net_from_osm(\n",
      "\u001b[0;32m/mnt/c/Users/llave/Documents/GitHub/flow/flow/core/kernel/network/traci.py\u001b[0m in \u001b[0;36mgenerate_net_from_template\u001b[0;34m(self, net_params)\u001b[0m\n\u001b[1;32m    611\u001b[0m \u001b[0;34m\u001b[0m\u001b[0m\n\u001b[1;32m    612\u001b[0m         \u001b[0;31m# collect data from the generated network configuration file\u001b[0m\u001b[0;34m\u001b[0m\u001b[0;34m\u001b[0m\u001b[0;34m\u001b[0m\u001b[0m\n\u001b[0;32m--> 613\u001b[0;31m         \u001b[0medges_dict\u001b[0m\u001b[0;34m,\u001b[0m \u001b[0mconn_dict\u001b[0m \u001b[0;34m=\u001b[0m \u001b[0mself\u001b[0m\u001b[0;34m.\u001b[0m\u001b[0m_import_edges_from_net\u001b[0m\u001b[0;34m(\u001b[0m\u001b[0mnet_params\u001b[0m\u001b[0;34m)\u001b[0m\u001b[0;34m\u001b[0m\u001b[0;34m\u001b[0m\u001b[0m\n\u001b[0m\u001b[1;32m    614\u001b[0m \u001b[0;34m\u001b[0m\u001b[0m\n\u001b[1;32m    615\u001b[0m         \u001b[0;32mreturn\u001b[0m \u001b[0medges_dict\u001b[0m\u001b[0;34m,\u001b[0m \u001b[0mconn_dict\u001b[0m\u001b[0;34m\u001b[0m\u001b[0;34m\u001b[0m\u001b[0m\n",
      "\u001b[0;32m/mnt/c/Users/llave/Documents/GitHub/flow/flow/core/kernel/network/traci.py\u001b[0m in \u001b[0;36m_import_edges_from_net\u001b[0;34m(self, net_params)\u001b[0m\n\u001b[1;32m    841\u001b[0m         \u001b[0mnet_path\u001b[0m \u001b[0;34m=\u001b[0m \u001b[0mos\u001b[0m\u001b[0;34m.\u001b[0m\u001b[0mpath\u001b[0m\u001b[0;34m.\u001b[0m\u001b[0mjoin\u001b[0m\u001b[0;34m(\u001b[0m\u001b[0mself\u001b[0m\u001b[0;34m.\u001b[0m\u001b[0mcfg_path\u001b[0m\u001b[0;34m,\u001b[0m \u001b[0mself\u001b[0m\u001b[0;34m.\u001b[0m\u001b[0mnetfn\u001b[0m\u001b[0;34m)\u001b[0m\u001b[0;31m \u001b[0m\u001b[0;31m\\\u001b[0m\u001b[0;34m\u001b[0m\u001b[0;34m\u001b[0m\u001b[0m\n\u001b[1;32m    842\u001b[0m             \u001b[0;32mif\u001b[0m \u001b[0mnet_params\u001b[0m\u001b[0;34m.\u001b[0m\u001b[0mtemplate\u001b[0m \u001b[0;32mis\u001b[0m \u001b[0;32mNone\u001b[0m \u001b[0;32melse\u001b[0m \u001b[0mself\u001b[0m\u001b[0;34m.\u001b[0m\u001b[0mnetfn\u001b[0m\u001b[0;34m\u001b[0m\u001b[0;34m\u001b[0m\u001b[0m\n\u001b[0;32m--> 843\u001b[0;31m         \u001b[0mtree\u001b[0m \u001b[0;34m=\u001b[0m \u001b[0mElementTree\u001b[0m\u001b[0;34m.\u001b[0m\u001b[0mparse\u001b[0m\u001b[0;34m(\u001b[0m\u001b[0mnet_path\u001b[0m\u001b[0;34m,\u001b[0m \u001b[0mparser\u001b[0m\u001b[0;34m=\u001b[0m\u001b[0mparser\u001b[0m\u001b[0;34m)\u001b[0m\u001b[0;34m\u001b[0m\u001b[0;34m\u001b[0m\u001b[0m\n\u001b[0m\u001b[1;32m    844\u001b[0m         \u001b[0mroot\u001b[0m \u001b[0;34m=\u001b[0m \u001b[0mtree\u001b[0m\u001b[0;34m.\u001b[0m\u001b[0mgetroot\u001b[0m\u001b[0;34m(\u001b[0m\u001b[0;34m)\u001b[0m\u001b[0;34m\u001b[0m\u001b[0;34m\u001b[0m\u001b[0m\n\u001b[1;32m    845\u001b[0m \u001b[0;34m\u001b[0m\u001b[0m\n",
      "\u001b[0;32m~/anaconda2/envs/flow/lib/python3.6/xml/etree/ElementTree.py\u001b[0m in \u001b[0;36mparse\u001b[0;34m(source, parser)\u001b[0m\n\u001b[1;32m   1194\u001b[0m     \"\"\"\n\u001b[1;32m   1195\u001b[0m     \u001b[0mtree\u001b[0m \u001b[0;34m=\u001b[0m \u001b[0mElementTree\u001b[0m\u001b[0;34m(\u001b[0m\u001b[0;34m)\u001b[0m\u001b[0;34m\u001b[0m\u001b[0;34m\u001b[0m\u001b[0m\n\u001b[0;32m-> 1196\u001b[0;31m     \u001b[0mtree\u001b[0m\u001b[0;34m.\u001b[0m\u001b[0mparse\u001b[0m\u001b[0;34m(\u001b[0m\u001b[0msource\u001b[0m\u001b[0;34m,\u001b[0m \u001b[0mparser\u001b[0m\u001b[0;34m)\u001b[0m\u001b[0;34m\u001b[0m\u001b[0;34m\u001b[0m\u001b[0m\n\u001b[0m\u001b[1;32m   1197\u001b[0m     \u001b[0;32mreturn\u001b[0m \u001b[0mtree\u001b[0m\u001b[0;34m\u001b[0m\u001b[0;34m\u001b[0m\u001b[0m\n\u001b[1;32m   1198\u001b[0m \u001b[0;34m\u001b[0m\u001b[0m\n",
      "\u001b[0;32m~/anaconda2/envs/flow/lib/python3.6/xml/etree/ElementTree.py\u001b[0m in \u001b[0;36mparse\u001b[0;34m(self, source, parser)\u001b[0m\n\u001b[1;32m    584\u001b[0m         \u001b[0mclose_source\u001b[0m \u001b[0;34m=\u001b[0m \u001b[0;32mFalse\u001b[0m\u001b[0;34m\u001b[0m\u001b[0;34m\u001b[0m\u001b[0m\n\u001b[1;32m    585\u001b[0m         \u001b[0;32mif\u001b[0m \u001b[0;32mnot\u001b[0m \u001b[0mhasattr\u001b[0m\u001b[0;34m(\u001b[0m\u001b[0msource\u001b[0m\u001b[0;34m,\u001b[0m \u001b[0;34m\"read\"\u001b[0m\u001b[0;34m)\u001b[0m\u001b[0;34m:\u001b[0m\u001b[0;34m\u001b[0m\u001b[0;34m\u001b[0m\u001b[0m\n\u001b[0;32m--> 586\u001b[0;31m             \u001b[0msource\u001b[0m \u001b[0;34m=\u001b[0m \u001b[0mopen\u001b[0m\u001b[0;34m(\u001b[0m\u001b[0msource\u001b[0m\u001b[0;34m,\u001b[0m \u001b[0;34m\"rb\"\u001b[0m\u001b[0;34m)\u001b[0m\u001b[0;34m\u001b[0m\u001b[0;34m\u001b[0m\u001b[0m\n\u001b[0m\u001b[1;32m    587\u001b[0m             \u001b[0mclose_source\u001b[0m \u001b[0;34m=\u001b[0m \u001b[0;32mTrue\u001b[0m\u001b[0;34m\u001b[0m\u001b[0;34m\u001b[0m\u001b[0m\n\u001b[1;32m    588\u001b[0m         \u001b[0;32mtry\u001b[0m\u001b[0;34m:\u001b[0m\u001b[0;34m\u001b[0m\u001b[0;34m\u001b[0m\u001b[0m\n",
      "\u001b[0;31mFileNotFoundError\u001b[0m: [Errno 2] No such file or directory: 'construction.net.xml'"
     ]
    }
   ],
   "source": [
    "fileDir = \"construction.net.xml\"\n",
    "\n",
    "#add inflows to the network parameters\n",
    "net_params = NetParams(\n",
    "    template=fileDir,\n",
    "    inflows=inflow\n",
    ")\n",
    "\n",
    "sim_params = SumoParams(render=True, sim_step=0.5)\n",
    "sim_params.color_vehicles = False\n",
    "\n",
    "flow_params = dict(\n",
    "    exp_tag='test_1',\n",
    "    env_name=myEnv,\n",
    "    network=Network,\n",
    "    simulator='traci',\n",
    "    sim=sim_params,\n",
    "    env=env_params,\n",
    "    net=net_params,\n",
    "    veh=vehicles,\n",
    "    initial=initial_config,\n",
    ")\n",
    "\n",
    "# number of time steps\n",
    "exp = Experiment(flow_params)\n",
    "\n",
    "# run the sumo simulation\n",
    "_ = exp.run(1)"
   ]
  },
  {
   "cell_type": "markdown",
   "metadata": {},
   "source": [
    "## 3. Adding the Changes to the README and Website\n",
    "\n",
    "Once you have completed your tutorial, you must include your new tutorial in all relevant descriptors of Flow's tutorials. This include adding it to both README and the Flow Website.\n",
    "\n",
    "### 3.1 README\n",
    "\n",
    "For one, begin by adding the new tutorial to the README.md file located in the tutorials/ directory (see the figure below). This should be included in your Pull Request (PR) whenever creating a new tutorial.\n",
    "\n",
    "<img src=\"img/tutorials_readme.png\">\n",
    "\n",
    "You just need to add your tutorial with the correct number and title under the last tutorial in the README.md:\n",
    "\n",
    "`\n",
    "**Tutorial XX:** Name of your tutorial.\n",
    "`\n",
    "\n",
    "### 3.2 Website\n",
    "\n",
    "Next, you need to inform the Flow web designer to add your tutorial to the Flow website:\n",
    "\n",
    "<img src=\"img/tutorials_website.png\">\n",
    "\n",
    "To do so, send the Title and the Github link to your tutorial to the Flow web designer."
   ]
  }
 ],
 "metadata": {
  "kernelspec": {
   "display_name": "Python (flow)",
   "language": "python",
   "name": "flow"
  },
  "language_info": {
   "codemirror_mode": {
    "name": "ipython",
    "version": 3
   },
   "file_extension": ".py",
   "mimetype": "text/x-python",
   "name": "python",
   "nbconvert_exporter": "python",
   "pygments_lexer": "ipython3",
   "version": "3.6.10"
  }
 },
 "nbformat": 4,
 "nbformat_minor": 2
}
