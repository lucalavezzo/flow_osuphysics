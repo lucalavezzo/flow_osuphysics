{
 "cells": [
  {
   "cell_type": "code",
   "execution_count": null,
   "metadata": {},
   "outputs": [],
   "source": [
    "import numpy as np\n",
    "import csv\n",
    "\n",
    "fname_sim= \n",
    "fname_trained=\n",
    "\n",
    "def import_data(fname):\n",
    "    \n",
    "    fields = []\n",
    "    rows = []\n",
    "    \n",
    "    # reading csv file \n",
    "    with open(fname, 'r') as csvfile: \n",
    "        # creating a csv reader object \n",
    "        csvreader = csv.reader(csvfile) \n",
    "\n",
    "        # extracting field names through first row \n",
    "        fields = next(csvreader) \n",
    "\n",
    "        # extracting each data row one by one \n",
    "        for row in csvreader: \n",
    "            rows.append(row) \n",
    "    \n",
    "    return fields, rows\n",
    "    \n",
    "sim_fields, sim_rows = import_data(fname_sim)"
   ]
  },
  {
   "cell_type": "code",
   "execution_count": null,
   "metadata": {},
   "outputs": [],
   "source": [
    "print(sim_fields,sim_rows)"
   ]
  }
 ],
 "metadata": {
  "kernelspec": {
   "display_name": "Python (flow)",
   "language": "python",
   "name": "flow"
  },
  "language_info": {
   "codemirror_mode": {
    "name": "ipython",
    "version": 3
   },
   "file_extension": ".py",
   "mimetype": "text/x-python",
   "name": "python",
   "nbconvert_exporter": "python",
   "pygments_lexer": "ipython3",
   "version": "3.6.10"
  }
 },
 "nbformat": 4,
 "nbformat_minor": 4
}
